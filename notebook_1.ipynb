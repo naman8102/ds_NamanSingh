{
  "nbformat": 4,
  "nbformat_minor": 0,
  "metadata": {
    "colab": {
      "provenance": [],
      "toc_visible": true
    },
    "kernelspec": {
      "name": "python3",
      "display_name": "Python 3"
    },
    "language_info": {
      "name": "python"
    }
  },
  "cells": [
    {
      "cell_type": "code",
      "metadata": {
        "colab": {
          "base_uri": "https://localhost:8080/"
        },
        "id": "2f41cf20",
        "outputId": "e45d06e8-1018-4dca-b121-45da9eccca13"
      },
      "source": [
        "import pandas as pd\n",
        "\n",
        "historical_df = pd.read_csv('/content/historical_data.csv')\n",
        "fear_greed_df = pd.read_csv('/content/fear_greed_index.csv')\n",
        "\n",
        "print(\"Historical Data:\")\n",
        "historical_df.info()\n",
        "print(\"\\nFear and Greed Index Data:\")\n",
        "fear_greed_df.info()"
      ],
      "execution_count": 1,
      "outputs": [
        {
          "output_type": "stream",
          "name": "stdout",
          "text": [
            "Historical Data:\n",
            "<class 'pandas.core.frame.DataFrame'>\n",
            "RangeIndex: 211224 entries, 0 to 211223\n",
            "Data columns (total 16 columns):\n",
            " #   Column            Non-Null Count   Dtype  \n",
            "---  ------            --------------   -----  \n",
            " 0   Account           211224 non-null  object \n",
            " 1   Coin              211224 non-null  object \n",
            " 2   Execution Price   211224 non-null  float64\n",
            " 3   Size Tokens       211224 non-null  float64\n",
            " 4   Size USD          211224 non-null  float64\n",
            " 5   Side              211224 non-null  object \n",
            " 6   Timestamp IST     211224 non-null  object \n",
            " 7   Start Position    211224 non-null  float64\n",
            " 8   Direction         211224 non-null  object \n",
            " 9   Closed PnL        211224 non-null  float64\n",
            " 10  Transaction Hash  211224 non-null  object \n",
            " 11  Order ID          211224 non-null  int64  \n",
            " 12  Crossed           211224 non-null  bool   \n",
            " 13  Fee               211224 non-null  float64\n",
            " 14  Trade ID          211224 non-null  float64\n",
            " 15  Timestamp         211224 non-null  float64\n",
            "dtypes: bool(1), float64(8), int64(1), object(6)\n",
            "memory usage: 24.4+ MB\n",
            "\n",
            "Fear and Greed Index Data:\n",
            "<class 'pandas.core.frame.DataFrame'>\n",
            "RangeIndex: 2644 entries, 0 to 2643\n",
            "Data columns (total 4 columns):\n",
            " #   Column          Non-Null Count  Dtype \n",
            "---  ------          --------------  ----- \n",
            " 0   timestamp       2644 non-null   int64 \n",
            " 1   value           2644 non-null   int64 \n",
            " 2   classification  2644 non-null   object\n",
            " 3   date            2644 non-null   object\n",
            "dtypes: int64(2), object(2)\n",
            "memory usage: 82.8+ KB\n"
          ]
        }
      ]
    },
    {
      "cell_type": "code",
      "metadata": {
        "colab": {
          "base_uri": "https://localhost:8080/"
        },
        "id": "e333f62d",
        "outputId": "2d5dc4a5-0eb5-4235-da0f-3e56ee0a91a3"
      },
      "source": [
        "print(\"Historical Data - Missing Values:\")\n",
        "print(historical_df.isnull().sum())\n",
        "\n",
        "print(\"\\nFear and Greed Index Data - Missing Values:\")\n",
        "print(fear_greed_df.isnull().sum())\n",
        "\n",
        "print(\"\\nHistorical Data - Duplicates:\")\n",
        "print(historical_df.duplicated().sum())\n",
        "\n",
        "print(\"\\nFear and Greed Index Data - Duplicates:\")\n",
        "print(fear_greed_df.duplicated().sum())\n",
        "\n",
        "print(\"\\nHistorical Data - Data Types:\")\n",
        "print(historical_df.dtypes)\n",
        "\n",
        "print(\"\\nFear and Greed Index Data - Data Types:\")\n",
        "print(fear_greed_df.dtypes)"
      ],
      "execution_count": 2,
      "outputs": [
        {
          "output_type": "stream",
          "name": "stdout",
          "text": [
            "Historical Data - Missing Values:\n",
            "Account             0\n",
            "Coin                0\n",
            "Execution Price     0\n",
            "Size Tokens         0\n",
            "Size USD            0\n",
            "Side                0\n",
            "Timestamp IST       0\n",
            "Start Position      0\n",
            "Direction           0\n",
            "Closed PnL          0\n",
            "Transaction Hash    0\n",
            "Order ID            0\n",
            "Crossed             0\n",
            "Fee                 0\n",
            "Trade ID            0\n",
            "Timestamp           0\n",
            "dtype: int64\n",
            "\n",
            "Fear and Greed Index Data - Missing Values:\n",
            "timestamp         0\n",
            "value             0\n",
            "classification    0\n",
            "date              0\n",
            "dtype: int64\n",
            "\n",
            "Historical Data - Duplicates:\n",
            "0\n",
            "\n",
            "Fear and Greed Index Data - Duplicates:\n",
            "0\n",
            "\n",
            "Historical Data - Data Types:\n",
            "Account              object\n",
            "Coin                 object\n",
            "Execution Price     float64\n",
            "Size Tokens         float64\n",
            "Size USD            float64\n",
            "Side                 object\n",
            "Timestamp IST        object\n",
            "Start Position      float64\n",
            "Direction            object\n",
            "Closed PnL          float64\n",
            "Transaction Hash     object\n",
            "Order ID              int64\n",
            "Crossed                bool\n",
            "Fee                 float64\n",
            "Trade ID            float64\n",
            "Timestamp           float64\n",
            "dtype: object\n",
            "\n",
            "Fear and Greed Index Data - Data Types:\n",
            "timestamp          int64\n",
            "value              int64\n",
            "classification    object\n",
            "date              object\n",
            "dtype: object\n"
          ]
        }
      ]
    },
    {
      "cell_type": "code",
      "metadata": {
        "colab": {
          "base_uri": "https://localhost:8080/"
        },
        "id": "9ece517d",
        "outputId": "491e9fde-71c9-4e4e-b484-174f53190e20"
      },
      "source": [
        "historical_df['Timestamp IST'] = pd.to_datetime(historical_df['Timestamp IST'], format='mixed')\n",
        "fear_greed_df['date'] = pd.to_datetime(fear_greed_df['date'], format='mixed')\n",
        "\n",
        "print(\"Historical Data - Data Types after conversion:\")\n",
        "print(historical_df.dtypes)\n",
        "print(\"\\nFear and Greed Index Data - Data Types after conversion:\")\n",
        "print(fear_greed_df.dtypes)"
      ],
      "execution_count": 4,
      "outputs": [
        {
          "output_type": "stream",
          "name": "stdout",
          "text": [
            "Historical Data - Data Types after conversion:\n",
            "Account                     object\n",
            "Coin                        object\n",
            "Execution Price            float64\n",
            "Size Tokens                float64\n",
            "Size USD                   float64\n",
            "Side                        object\n",
            "Timestamp IST       datetime64[ns]\n",
            "Start Position             float64\n",
            "Direction                   object\n",
            "Closed PnL                 float64\n",
            "Transaction Hash            object\n",
            "Order ID                     int64\n",
            "Crossed                       bool\n",
            "Fee                        float64\n",
            "Trade ID                   float64\n",
            "Timestamp                  float64\n",
            "dtype: object\n",
            "\n",
            "Fear and Greed Index Data - Data Types after conversion:\n",
            "timestamp                  int64\n",
            "value                      int64\n",
            "classification            object\n",
            "date              datetime64[ns]\n",
            "dtype: object\n"
          ]
        }
      ]
    },
    {
      "cell_type": "code",
      "metadata": {
        "colab": {
          "base_uri": "https://localhost:8080/"
        },
        "id": "f42df552",
        "outputId": "c3847857-cfc5-463d-d611-43892a93f55f"
      },
      "source": [
        "def standardize_column_names(df):\n",
        "    \"\"\"Converts column names to lowercase with underscores.\"\"\"\n",
        "    df.columns = df.columns.str.replace(' ', '_').str.lower()\n",
        "    return df\n",
        "\n",
        "historical_df = standardize_column_names(historical_df)\n",
        "fear_greed_df = standardize_column_names(fear_greed_df)\n",
        "\n",
        "print(\"Historical Data - Standardized Column Names:\")\n",
        "print(historical_df.columns)\n",
        "print(\"\\nFear and Greed Index Data - Standardized Column Names:\")\n",
        "print(fear_greed_df.columns)"
      ],
      "execution_count": 5,
      "outputs": [
        {
          "output_type": "stream",
          "name": "stdout",
          "text": [
            "Historical Data - Standardized Column Names:\n",
            "Index(['account', 'coin', 'execution_price', 'size_tokens', 'size_usd', 'side',\n",
            "       'timestamp_ist', 'start_position', 'direction', 'closed_pnl',\n",
            "       'transaction_hash', 'order_id', 'crossed', 'fee', 'trade_id',\n",
            "       'timestamp'],\n",
            "      dtype='object')\n",
            "\n",
            "Fear and Greed Index Data - Standardized Column Names:\n",
            "Index(['timestamp', 'value', 'classification', 'date'], dtype='object')\n"
          ]
        }
      ]
    },
    {
      "cell_type": "code",
      "metadata": {
        "colab": {
          "base_uri": "https://localhost:8080/"
        },
        "id": "d81e6165",
        "outputId": "adc07a5d-0e51-4947-d614-c417391e1070"
      },
      "source": [
        "import os\n",
        "\n",
        "# Create the directory if it doesn't exist\n",
        "if not os.path.exists('/csv_files/'):\n",
        "    os.makedirs('/csv_files/')\n",
        "\n",
        "historical_df.to_csv('/csv_files/historical_data_cleaned.csv', index=False)\n",
        "fear_greed_df.to_csv('/csv_files/fear_greed_index_cleaned.csv', index=False)\n",
        "\n",
        "print(\"Cleaned dataframes saved to /csv_files/\")"
      ],
      "execution_count": 6,
      "outputs": [
        {
          "output_type": "stream",
          "name": "stdout",
          "text": [
            "Cleaned dataframes saved to /csv_files/\n"
          ]
        }
      ]
    },
    {
      "cell_type": "code",
      "metadata": {
        "colab": {
          "base_uri": "https://localhost:8080/"
        },
        "id": "1ec474e7",
        "outputId": "bb8054f9-5aa2-477d-cee9-f1acc2d6da22"
      },
      "source": [
        "merged_df = pd.merge(historical_df, fear_greed_df, left_on=historical_df['timestamp_ist'].dt.date, right_on=fear_greed_df['date'].dt.date, how='left')\n",
        "\n",
        "print(\"Merged Data Info:\")\n",
        "merged_df.info()"
      ],
      "execution_count": 8,
      "outputs": [
        {
          "output_type": "stream",
          "name": "stdout",
          "text": [
            "Merged Data Info:\n",
            "<class 'pandas.core.frame.DataFrame'>\n",
            "RangeIndex: 211224 entries, 0 to 211223\n",
            "Data columns (total 21 columns):\n",
            " #   Column            Non-Null Count   Dtype         \n",
            "---  ------            --------------   -----         \n",
            " 0   key_0             211224 non-null  object        \n",
            " 1   account           211224 non-null  object        \n",
            " 2   coin              211224 non-null  object        \n",
            " 3   execution_price   211224 non-null  float64       \n",
            " 4   size_tokens       211224 non-null  float64       \n",
            " 5   size_usd          211224 non-null  float64       \n",
            " 6   side              211224 non-null  object        \n",
            " 7   timestamp_ist     211224 non-null  datetime64[ns]\n",
            " 8   start_position    211224 non-null  float64       \n",
            " 9   direction         211224 non-null  object        \n",
            " 10  closed_pnl        211224 non-null  float64       \n",
            " 11  transaction_hash  211224 non-null  object        \n",
            " 12  order_id          211224 non-null  int64         \n",
            " 13  crossed           211224 non-null  bool          \n",
            " 14  fee               211224 non-null  float64       \n",
            " 15  trade_id          211224 non-null  float64       \n",
            " 16  timestamp_x       211224 non-null  float64       \n",
            " 17  timestamp_y       167857 non-null  float64       \n",
            " 18  value             167857 non-null  float64       \n",
            " 19  classification    167857 non-null  object        \n",
            " 20  date              167857 non-null  datetime64[ns]\n",
            "dtypes: bool(1), datetime64[ns](2), float64(10), int64(1), object(7)\n",
            "memory usage: 32.4+ MB\n"
          ]
        }
      ]
    },
    {
      "cell_type": "code",
      "metadata": {
        "colab": {
          "base_uri": "https://localhost:8080/",
          "height": 243
        },
        "id": "9f07d78c",
        "outputId": "d2138026-5817-4a97-8428-3648c7802532"
      },
      "source": [
        "daily_metrics = merged_df.groupby(merged_df['timestamp_ist'].dt.date).agg(\n",
        "    avg_closed_pnl=('closed_pnl', 'mean'),\n",
        "    total_closed_pnl=('closed_pnl', 'sum'),\n",
        "    avg_leverage=('start_position', 'mean'), # Assuming 'start_position' is related to leverage\n",
        "    total_volume=('size_usd', 'sum'), # Using 'size_usd' as it represents volume in USD\n",
        "    leverage_std=('start_position', 'std'),\n",
        "    position_size_std=('size_usd', 'std'), # Using 'size_usd' for position size\n",
        "    fear_greed_value=('value', 'first'), # Get the fear and greed value for the day\n",
        "    fear_greed_classification=('classification', 'first') # Get the fear and greed classification for the day\n",
        ").reset_index()\n",
        "\n",
        "daily_metrics = daily_metrics.rename(columns={'index': 'date'})\n",
        "\n",
        "print(\"Daily Metrics:\")\n",
        "display(daily_metrics.head())"
      ],
      "execution_count": 9,
      "outputs": [
        {
          "output_type": "stream",
          "name": "stdout",
          "text": [
            "Daily Metrics:\n"
          ]
        },
        {
          "output_type": "display_data",
          "data": {
            "text/plain": [
              "  timestamp_ist  avg_closed_pnl  total_closed_pnl  avg_leverage  total_volume  \\\n",
              "0    2023-01-05        0.000000          0.000000      0.091933        477.00   \n",
              "1    2023-05-12        0.000000          0.000000      2.513867      50005.83   \n",
              "2    2023-12-14      -18.675885       -205.434737   -132.574302     113203.35   \n",
              "3    2023-12-15      -12.316017        -24.632034  -2440.000000      10609.95   \n",
              "4    2023-12-16        0.000000          0.000000  12124.666667      15348.77   \n",
              "\n",
              "   leverage_std  position_size_std  fear_greed_value fear_greed_classification  \n",
              "0      0.089645          23.334732              29.0                      Fear  \n",
              "1      3.029635        7684.929083              49.0                   Neutral  \n",
              "2    703.807488        7791.138318              72.0                     Greed  \n",
              "3   1581.090763        1927.254887              70.0                     Greed  \n",
              "4  12104.052930         797.042550              67.0                     Greed  "
            ],
            "text/html": [
              "\n",
              "  <div id=\"df-624e0343-ef0c-4fba-8658-eecdcd221d7c\" class=\"colab-df-container\">\n",
              "    <div>\n",
              "<style scoped>\n",
              "    .dataframe tbody tr th:only-of-type {\n",
              "        vertical-align: middle;\n",
              "    }\n",
              "\n",
              "    .dataframe tbody tr th {\n",
              "        vertical-align: top;\n",
              "    }\n",
              "\n",
              "    .dataframe thead th {\n",
              "        text-align: right;\n",
              "    }\n",
              "</style>\n",
              "<table border=\"1\" class=\"dataframe\">\n",
              "  <thead>\n",
              "    <tr style=\"text-align: right;\">\n",
              "      <th></th>\n",
              "      <th>timestamp_ist</th>\n",
              "      <th>avg_closed_pnl</th>\n",
              "      <th>total_closed_pnl</th>\n",
              "      <th>avg_leverage</th>\n",
              "      <th>total_volume</th>\n",
              "      <th>leverage_std</th>\n",
              "      <th>position_size_std</th>\n",
              "      <th>fear_greed_value</th>\n",
              "      <th>fear_greed_classification</th>\n",
              "    </tr>\n",
              "  </thead>\n",
              "  <tbody>\n",
              "    <tr>\n",
              "      <th>0</th>\n",
              "      <td>2023-01-05</td>\n",
              "      <td>0.000000</td>\n",
              "      <td>0.000000</td>\n",
              "      <td>0.091933</td>\n",
              "      <td>477.00</td>\n",
              "      <td>0.089645</td>\n",
              "      <td>23.334732</td>\n",
              "      <td>29.0</td>\n",
              "      <td>Fear</td>\n",
              "    </tr>\n",
              "    <tr>\n",
              "      <th>1</th>\n",
              "      <td>2023-05-12</td>\n",
              "      <td>0.000000</td>\n",
              "      <td>0.000000</td>\n",
              "      <td>2.513867</td>\n",
              "      <td>50005.83</td>\n",
              "      <td>3.029635</td>\n",
              "      <td>7684.929083</td>\n",
              "      <td>49.0</td>\n",
              "      <td>Neutral</td>\n",
              "    </tr>\n",
              "    <tr>\n",
              "      <th>2</th>\n",
              "      <td>2023-12-14</td>\n",
              "      <td>-18.675885</td>\n",
              "      <td>-205.434737</td>\n",
              "      <td>-132.574302</td>\n",
              "      <td>113203.35</td>\n",
              "      <td>703.807488</td>\n",
              "      <td>7791.138318</td>\n",
              "      <td>72.0</td>\n",
              "      <td>Greed</td>\n",
              "    </tr>\n",
              "    <tr>\n",
              "      <th>3</th>\n",
              "      <td>2023-12-15</td>\n",
              "      <td>-12.316017</td>\n",
              "      <td>-24.632034</td>\n",
              "      <td>-2440.000000</td>\n",
              "      <td>10609.95</td>\n",
              "      <td>1581.090763</td>\n",
              "      <td>1927.254887</td>\n",
              "      <td>70.0</td>\n",
              "      <td>Greed</td>\n",
              "    </tr>\n",
              "    <tr>\n",
              "      <th>4</th>\n",
              "      <td>2023-12-16</td>\n",
              "      <td>0.000000</td>\n",
              "      <td>0.000000</td>\n",
              "      <td>12124.666667</td>\n",
              "      <td>15348.77</td>\n",
              "      <td>12104.052930</td>\n",
              "      <td>797.042550</td>\n",
              "      <td>67.0</td>\n",
              "      <td>Greed</td>\n",
              "    </tr>\n",
              "  </tbody>\n",
              "</table>\n",
              "</div>\n",
              "    <div class=\"colab-df-buttons\">\n",
              "\n",
              "  <div class=\"colab-df-container\">\n",
              "    <button class=\"colab-df-convert\" onclick=\"convertToInteractive('df-624e0343-ef0c-4fba-8658-eecdcd221d7c')\"\n",
              "            title=\"Convert this dataframe to an interactive table.\"\n",
              "            style=\"display:none;\">\n",
              "\n",
              "  <svg xmlns=\"http://www.w3.org/2000/svg\" height=\"24px\" viewBox=\"0 -960 960 960\">\n",
              "    <path d=\"M120-120v-720h720v720H120Zm60-500h600v-160H180v160Zm220 220h160v-160H400v160Zm0 220h160v-160H400v160ZM180-400h160v-160H180v160Zm440 0h160v-160H620v160ZM180-180h160v-160H180v160Zm440 0h160v-160H620v160Z\"/>\n",
              "  </svg>\n",
              "    </button>\n",
              "\n",
              "  <style>\n",
              "    .colab-df-container {\n",
              "      display:flex;\n",
              "      gap: 12px;\n",
              "    }\n",
              "\n",
              "    .colab-df-convert {\n",
              "      background-color: #E8F0FE;\n",
              "      border: none;\n",
              "      border-radius: 50%;\n",
              "      cursor: pointer;\n",
              "      display: none;\n",
              "      fill: #1967D2;\n",
              "      height: 32px;\n",
              "      padding: 0 0 0 0;\n",
              "      width: 32px;\n",
              "    }\n",
              "\n",
              "    .colab-df-convert:hover {\n",
              "      background-color: #E2EBFA;\n",
              "      box-shadow: 0px 1px 2px rgba(60, 64, 67, 0.3), 0px 1px 3px 1px rgba(60, 64, 67, 0.15);\n",
              "      fill: #174EA6;\n",
              "    }\n",
              "\n",
              "    .colab-df-buttons div {\n",
              "      margin-bottom: 4px;\n",
              "    }\n",
              "\n",
              "    [theme=dark] .colab-df-convert {\n",
              "      background-color: #3B4455;\n",
              "      fill: #D2E3FC;\n",
              "    }\n",
              "\n",
              "    [theme=dark] .colab-df-convert:hover {\n",
              "      background-color: #434B5C;\n",
              "      box-shadow: 0px 1px 3px 1px rgba(0, 0, 0, 0.15);\n",
              "      filter: drop-shadow(0px 1px 2px rgba(0, 0, 0, 0.3));\n",
              "      fill: #FFFFFF;\n",
              "    }\n",
              "  </style>\n",
              "\n",
              "    <script>\n",
              "      const buttonEl =\n",
              "        document.querySelector('#df-624e0343-ef0c-4fba-8658-eecdcd221d7c button.colab-df-convert');\n",
              "      buttonEl.style.display =\n",
              "        google.colab.kernel.accessAllowed ? 'block' : 'none';\n",
              "\n",
              "      async function convertToInteractive(key) {\n",
              "        const element = document.querySelector('#df-624e0343-ef0c-4fba-8658-eecdcd221d7c');\n",
              "        const dataTable =\n",
              "          await google.colab.kernel.invokeFunction('convertToInteractive',\n",
              "                                                    [key], {});\n",
              "        if (!dataTable) return;\n",
              "\n",
              "        const docLinkHtml = 'Like what you see? Visit the ' +\n",
              "          '<a target=\"_blank\" href=https://colab.research.google.com/notebooks/data_table.ipynb>data table notebook</a>'\n",
              "          + ' to learn more about interactive tables.';\n",
              "        element.innerHTML = '';\n",
              "        dataTable['output_type'] = 'display_data';\n",
              "        await google.colab.output.renderOutput(dataTable, element);\n",
              "        const docLink = document.createElement('div');\n",
              "        docLink.innerHTML = docLinkHtml;\n",
              "        element.appendChild(docLink);\n",
              "      }\n",
              "    </script>\n",
              "  </div>\n",
              "\n",
              "\n",
              "    <div id=\"df-c5fc99a3-c2aa-4609-9885-39cced7f6e25\">\n",
              "      <button class=\"colab-df-quickchart\" onclick=\"quickchart('df-c5fc99a3-c2aa-4609-9885-39cced7f6e25')\"\n",
              "                title=\"Suggest charts\"\n",
              "                style=\"display:none;\">\n",
              "\n",
              "<svg xmlns=\"http://www.w3.org/2000/svg\" height=\"24px\"viewBox=\"0 0 24 24\"\n",
              "     width=\"24px\">\n",
              "    <g>\n",
              "        <path d=\"M19 3H5c-1.1 0-2 .9-2 2v14c0 1.1.9 2 2 2h14c1.1 0 2-.9 2-2V5c0-1.1-.9-2-2-2zM9 17H7v-7h2v7zm4 0h-2V7h2v10zm4 0h-2v-4h2v4z\"/>\n",
              "    </g>\n",
              "</svg>\n",
              "      </button>\n",
              "\n",
              "<style>\n",
              "  .colab-df-quickchart {\n",
              "      --bg-color: #E8F0FE;\n",
              "      --fill-color: #1967D2;\n",
              "      --hover-bg-color: #E2EBFA;\n",
              "      --hover-fill-color: #174EA6;\n",
              "      --disabled-fill-color: #AAA;\n",
              "      --disabled-bg-color: #DDD;\n",
              "  }\n",
              "\n",
              "  [theme=dark] .colab-df-quickchart {\n",
              "      --bg-color: #3B4455;\n",
              "      --fill-color: #D2E3FC;\n",
              "      --hover-bg-color: #434B5C;\n",
              "      --hover-fill-color: #FFFFFF;\n",
              "      --disabled-bg-color: #3B4455;\n",
              "      --disabled-fill-color: #666;\n",
              "  }\n",
              "\n",
              "  .colab-df-quickchart {\n",
              "    background-color: var(--bg-color);\n",
              "    border: none;\n",
              "    border-radius: 50%;\n",
              "    cursor: pointer;\n",
              "    display: none;\n",
              "    fill: var(--fill-color);\n",
              "    height: 32px;\n",
              "    padding: 0;\n",
              "    width: 32px;\n",
              "  }\n",
              "\n",
              "  .colab-df-quickchart:hover {\n",
              "    background-color: var(--hover-bg-color);\n",
              "    box-shadow: 0 1px 2px rgba(60, 64, 67, 0.3), 0 1px 3px 1px rgba(60, 64, 67, 0.15);\n",
              "    fill: var(--button-hover-fill-color);\n",
              "  }\n",
              "\n",
              "  .colab-df-quickchart-complete:disabled,\n",
              "  .colab-df-quickchart-complete:disabled:hover {\n",
              "    background-color: var(--disabled-bg-color);\n",
              "    fill: var(--disabled-fill-color);\n",
              "    box-shadow: none;\n",
              "  }\n",
              "\n",
              "  .colab-df-spinner {\n",
              "    border: 2px solid var(--fill-color);\n",
              "    border-color: transparent;\n",
              "    border-bottom-color: var(--fill-color);\n",
              "    animation:\n",
              "      spin 1s steps(1) infinite;\n",
              "  }\n",
              "\n",
              "  @keyframes spin {\n",
              "    0% {\n",
              "      border-color: transparent;\n",
              "      border-bottom-color: var(--fill-color);\n",
              "      border-left-color: var(--fill-color);\n",
              "    }\n",
              "    20% {\n",
              "      border-color: transparent;\n",
              "      border-left-color: var(--fill-color);\n",
              "      border-top-color: var(--fill-color);\n",
              "    }\n",
              "    30% {\n",
              "      border-color: transparent;\n",
              "      border-left-color: var(--fill-color);\n",
              "      border-top-color: var(--fill-color);\n",
              "      border-right-color: var(--fill-color);\n",
              "    }\n",
              "    40% {\n",
              "      border-color: transparent;\n",
              "      border-right-color: var(--fill-color);\n",
              "      border-top-color: var(--fill-color);\n",
              "    }\n",
              "    60% {\n",
              "      border-color: transparent;\n",
              "      border-right-color: var(--fill-color);\n",
              "    }\n",
              "    80% {\n",
              "      border-color: transparent;\n",
              "      border-right-color: var(--fill-color);\n",
              "      border-bottom-color: var(--fill-color);\n",
              "    }\n",
              "    90% {\n",
              "      border-color: transparent;\n",
              "      border-bottom-color: var(--fill-color);\n",
              "    }\n",
              "  }\n",
              "</style>\n",
              "\n",
              "      <script>\n",
              "        async function quickchart(key) {\n",
              "          const quickchartButtonEl =\n",
              "            document.querySelector('#' + key + ' button');\n",
              "          quickchartButtonEl.disabled = true;  // To prevent multiple clicks.\n",
              "          quickchartButtonEl.classList.add('colab-df-spinner');\n",
              "          try {\n",
              "            const charts = await google.colab.kernel.invokeFunction(\n",
              "                'suggestCharts', [key], {});\n",
              "          } catch (error) {\n",
              "            console.error('Error during call to suggestCharts:', error);\n",
              "          }\n",
              "          quickchartButtonEl.classList.remove('colab-df-spinner');\n",
              "          quickchartButtonEl.classList.add('colab-df-quickchart-complete');\n",
              "        }\n",
              "        (() => {\n",
              "          let quickchartButtonEl =\n",
              "            document.querySelector('#df-c5fc99a3-c2aa-4609-9885-39cced7f6e25 button');\n",
              "          quickchartButtonEl.style.display =\n",
              "            google.colab.kernel.accessAllowed ? 'block' : 'none';\n",
              "        })();\n",
              "      </script>\n",
              "    </div>\n",
              "\n",
              "    </div>\n",
              "  </div>\n"
            ],
            "application/vnd.google.colaboratory.intrinsic+json": {
              "type": "dataframe",
              "summary": "{\n  \"name\": \"display(daily_metrics\",\n  \"rows\": 5,\n  \"fields\": [\n    {\n      \"column\": \"timestamp_ist\",\n      \"properties\": {\n        \"dtype\": \"date\",\n        \"min\": \"2023-01-05\",\n        \"max\": \"2023-12-16\",\n        \"num_unique_values\": 5,\n        \"samples\": [\n          \"2023-05-12\",\n          \"2023-12-16\",\n          \"2023-12-14\"\n        ],\n        \"semantic_type\": \"\",\n        \"description\": \"\"\n      }\n    },\n    {\n      \"column\": \"avg_closed_pnl\",\n      \"properties\": {\n        \"dtype\": \"number\",\n        \"std\": 8.780281343716553,\n        \"min\": -18.675885181818188,\n        \"max\": 0.0,\n        \"num_unique_values\": 3,\n        \"samples\": [\n          0.0,\n          -18.675885181818188,\n          -12.316016999999999\n        ],\n        \"semantic_type\": \"\",\n        \"description\": \"\"\n      }\n    },\n    {\n      \"column\": \"total_closed_pnl\",\n      \"properties\": {\n        \"dtype\": \"number\",\n        \"std\": 89.75525672845444,\n        \"min\": -205.43473700000007,\n        \"max\": 0.0,\n        \"num_unique_values\": 3,\n        \"samples\": [\n          0.0,\n          -205.43473700000007,\n          -24.632033999999997\n        ],\n        \"semantic_type\": \"\",\n        \"description\": \"\"\n      }\n    },\n    {\n      \"column\": \"avg_leverage\",\n      \"properties\": {\n        \"dtype\": \"number\",\n        \"std\": 5803.453123938064,\n        \"min\": -2440.0,\n        \"max\": 12124.666666666666,\n        \"num_unique_values\": 5,\n        \"samples\": [\n          2.513866666666667,\n          12124.666666666666,\n          -132.57430181818182\n        ],\n        \"semantic_type\": \"\",\n        \"description\": \"\"\n      }\n    },\n    {\n      \"column\": \"total_volume\",\n      \"properties\": {\n        \"dtype\": \"number\",\n        \"std\": 46018.8199939025,\n        \"min\": 477.0,\n        \"max\": 113203.35,\n        \"num_unique_values\": 5,\n        \"samples\": [\n          50005.83,\n          15348.77,\n          113203.35\n        ],\n        \"semantic_type\": \"\",\n        \"description\": \"\"\n      }\n    },\n    {\n      \"column\": \"leverage_std\",\n      \"properties\": {\n        \"dtype\": \"number\",\n        \"std\": 5198.003488629653,\n        \"min\": 0.08964509653814498,\n        \"max\": 12104.052930045098,\n        \"num_unique_values\": 5,\n        \"samples\": [\n          3.029634572023497,\n          12104.052930045098,\n          703.8074882995812\n        ],\n        \"semantic_type\": \"\",\n        \"description\": \"\"\n      }\n    },\n    {\n      \"column\": \"position_size_std\",\n      \"properties\": {\n        \"dtype\": \"number\",\n        \"std\": 3797.678858172545,\n        \"min\": 23.334731624769105,\n        \"max\": 7791.138318223176,\n        \"num_unique_values\": 5,\n        \"samples\": [\n          7684.929083090162,\n          797.0425495751988,\n          7791.138318223176\n        ],\n        \"semantic_type\": \"\",\n        \"description\": \"\"\n      }\n    },\n    {\n      \"column\": \"fear_greed_value\",\n      \"properties\": {\n        \"dtype\": \"number\",\n        \"std\": 18.31119875922928,\n        \"min\": 29.0,\n        \"max\": 72.0,\n        \"num_unique_values\": 5,\n        \"samples\": [\n          49.0,\n          67.0,\n          72.0\n        ],\n        \"semantic_type\": \"\",\n        \"description\": \"\"\n      }\n    },\n    {\n      \"column\": \"fear_greed_classification\",\n      \"properties\": {\n        \"dtype\": \"string\",\n        \"num_unique_values\": 3,\n        \"samples\": [\n          \"Fear\",\n          \"Neutral\",\n          \"Greed\"\n        ],\n        \"semantic_type\": \"\",\n        \"description\": \"\"\n      }\n    }\n  ]\n}"
            }
          },
          "metadata": {}
        }
      ]
    },
    {
      "cell_type": "code",
      "metadata": {
        "colab": {
          "base_uri": "https://localhost:8080/"
        },
        "id": "0b02883e",
        "outputId": "3e837542-4c47-41d9-f230-7912a731fed6"
      },
      "source": [
        "daily_metrics.to_csv('/csv_files/processed_data.csv', index=False)\n",
        "\n",
        "print(\"Processed data saved to /csv_files/processed_data.csv\")"
      ],
      "execution_count": 10,
      "outputs": [
        {
          "output_type": "stream",
          "name": "stdout",
          "text": [
            "Processed data saved to /csv_files/processed_data.csv\n"
          ]
        }
      ]
    },
    {
      "cell_type": "markdown",
      "metadata": {
        "id": "c000df99"
      },
      "source": [
        "## Create output directory\n",
        "\n",
        "### Subtask:\n",
        "Create a directory named 'outputs' to save the generated plots.\n"
      ]
    },
    {
      "cell_type": "code",
      "metadata": {
        "colab": {
          "base_uri": "https://localhost:8080/"
        },
        "id": "91859df9",
        "outputId": "3ec5d732-ee3d-4d67-de09-b5d04b7a95fc"
      },
      "source": [
        "import os\n",
        "\n",
        "if not os.path.exists('outputs/'):\n",
        "    os.makedirs('outputs/', exist_ok=True)\n",
        "\n",
        "print(\"Created 'outputs' directory.\")"
      ],
      "execution_count": 11,
      "outputs": [
        {
          "output_type": "stream",
          "name": "stdout",
          "text": [
            "Created 'outputs' directory.\n"
          ]
        }
      ]
    },
    {
      "cell_type": "markdown",
      "metadata": {
        "id": "72896650"
      },
      "source": [
        "## Plot pnl distribution\n",
        "\n",
        "### Subtask:\n",
        "Create plots to visualize the distribution of PnL for Fear vs Greed days.\n"
      ]
    },
    {
      "cell_type": "markdown",
      "metadata": {
        "id": "b6838fbe"
      },
      "source": [
        "Reasoning:\n",
        "Filter the daily_metrics dataframe to separate the data for 'Fear' days and 'Greed' days and then create histograms for 'total_closed_pnl' for both fear and greed days to visualize their distributions.\n",
        "\n"
      ]
    },
    {
      "cell_type": "code",
      "metadata": {
        "colab": {
          "base_uri": "https://localhost:8080/",
          "height": 569
        },
        "id": "cc6f5551",
        "outputId": "93ecad78-ef3d-4f45-f3f0-5f9c3436a8d3"
      },
      "source": [
        "import matplotlib.pyplot as plt\n",
        "\n",
        "fear_days_pnl = daily_metrics[daily_metrics['fear_greed_classification'] == 'Fear']['total_closed_pnl']\n",
        "greed_days_pnl = daily_metrics[daily_metrics['fear_greed_classification'] == 'Greed']['total_closed_pnl']\n",
        "\n",
        "plt.figure(figsize=(12, 6))\n",
        "\n",
        "plt.subplot(1, 2, 1)\n",
        "plt.hist(fear_days_pnl, bins=50, color='skyblue')\n",
        "plt.title('Distribution of Total Closed PnL on Fear Days')\n",
        "plt.xlabel('Total Closed PnL')\n",
        "plt.ylabel('Frequency')\n",
        "\n",
        "plt.subplot(1, 2, 2)\n",
        "plt.hist(greed_days_pnl, bins=50, color='lightcoral')\n",
        "plt.title('Distribution of Total Closed PnL on Greed Days')\n",
        "plt.xlabel('Total Closed PnL')\n",
        "plt.ylabel('Frequency')\n",
        "\n",
        "plt.tight_layout()\n",
        "plt.show()"
      ],
      "execution_count": 12,
      "outputs": [
        {
          "output_type": "display_data",
          "data": {
            "text/plain": [
              "<Figure size 1200x600 with 2 Axes>"
            ],
            "image/png": "[encoded data removed]"
          },
          "metadata": {}
        }
      ]
    },
    {
      "cell_type": "markdown",
      "metadata": {
        "id": "a98b08e3"
      },
      "source": [
        "## Plot leverage trend\n",
        "\n",
        "### Subtask:\n",
        "Plot the trend of average leverage over time, overlaid with the sentiment.\n"
      ]
    },
    {
      "cell_type": "markdown",
      "metadata": {
        "id": "71a7677c"
      },
      "source": [
        "Reasoning:\n",
        "Plot the average leverage and fear greed value over time on a dual-axis plot.\n",
        "\n"
      ]
    },
    {
      "cell_type": "code",
      "metadata": {
        "colab": {
          "base_uri": "https://localhost:8080/",
          "height": 589
        },
        "id": "852f4030",
        "outputId": "d23c53b3-ac42-488f-d997-679e6f4ef14b"
      },
      "source": [
        "import matplotlib.pyplot as plt\n",
        "\n",
        "fig, ax1 = plt.subplots(figsize=(14, 7))\n",
        "\n",
        "ax1.plot(daily_metrics['timestamp_ist'], daily_metrics['avg_leverage'], color='tab:blue')\n",
        "ax1.set_xlabel('Date')\n",
        "ax1.set_ylabel('Average Leverage', color='tab:blue')\n",
        "ax1.tick_params(axis='y', labelcolor='tab:blue')\n",
        "\n",
        "ax2 = ax1.twinx()\n",
        "ax2.plot(daily_metrics['timestamp_ist'], daily_metrics['fear_greed_value'], color='tab:red')\n",
        "ax2.set_ylabel('Fear Greed Value', color='tab:red')\n",
        "ax2.tick_params(axis='y', labelcolor='tab:red')\n",
        "\n",
        "plt.title('Average Leverage and Fear Greed Index Over Time')\n",
        "plt.show()"
      ],
      "execution_count": 13,
      "outputs": [
        {
          "output_type": "display_data",
          "data": {
            "text/plain": [
              "<Figure size 1400x700 with 2 Axes>"
            ],
            "image/png": "[encoded data removed]"
          },
          "metadata": {}
        }
      ]
    },
    {
      "cell_type": "markdown",
      "metadata": {
        "id": "ea5bcf3c"
      },
      "source": [
        "Reasoning:\n",
        "Save the generated plot to the specified output directory.\n",
        "\n"
      ]
    },
    {
      "cell_type": "code",
      "metadata": {
        "colab": {
          "base_uri": "https://localhost:8080/",
          "height": 34
        },
        "id": "1b604ec6",
        "outputId": "bb0393de-b4cb-4822-e56e-9d4e956f4682"
      },
      "source": [
        "plt.savefig('outputs/avg_leverage_sentiment_trend.png')"
      ],
      "execution_count": 14,
      "outputs": [
        {
          "output_type": "display_data",
          "data": {
            "text/plain": [
              "<Figure size 640x480 with 0 Axes>"
            ]
          },
          "metadata": {}
        }
      ]
    },
    {
      "cell_type": "markdown",
      "metadata": {
        "id": "2aaa1fb2"
      },
      "source": [
        "## Compare volume\n",
        "\n",
        "### Subtask:\n",
        "Create plots or visualizations to compare the total volume on Fear vs Greed days.\n"
      ]
    },
    {
      "cell_type": "markdown",
      "metadata": {
        "id": "446b40c8"
      },
      "source": [
        "Reasoning:\n",
        "Filter the daily_metrics dataframe to get the total volume for fear and greed days, and then create a box plot to compare them.\n",
        "\n"
      ]
    },
    {
      "cell_type": "code",
      "metadata": {
        "colab": {
          "base_uri": "https://localhost:8080/",
          "height": 600
        },
        "id": "7a34e11d",
        "outputId": "0291e389-998f-4c95-8b87-920c7d5c1999"
      },
      "source": [
        "import matplotlib.pyplot as plt\n",
        "\n",
        "fear_days_volume = daily_metrics[daily_metrics['fear_greed_classification'] == 'Fear']['total_volume']\n",
        "greed_days_volume = daily_metrics[daily_metrics['fear_greed_classification'] == 'Greed']['total_volume']\n",
        "\n",
        "plt.figure(figsize=(8, 6))\n",
        "plt.boxplot([fear_days_volume, greed_days_volume], labels=['Fear Days Volume', 'Greed Days Volume'])\n",
        "plt.title('Comparison of Total Volume on Fear vs Greed Days')\n",
        "plt.ylabel('Total Volume (USD)')\n",
        "plt.show()"
      ],
      "execution_count": 15,
      "outputs": [
        {
          "output_type": "stream",
          "name": "stderr",
          "text": [
            "/tmp/ipython-input-2556178611.py:7: MatplotlibDeprecationWarning: The 'labels' parameter of boxplot() has been renamed 'tick_labels' since Matplotlib 3.9; support for the old name will be dropped in 3.11.\n",
            "  plt.boxplot([fear_days_volume, greed_days_volume], labels=['Fear Days Volume', 'Greed Days Volume'])\n"
          ]
        },
        {
          "output_type": "display_data",
          "data": {
            "text/plain": [
              "<Figure size 800x600 with 1 Axes>"
            ],
            "image/png": "[encoded data removed]"
          },
          "metadata": {}
        }
      ]
    },
    {
      "cell_type": "markdown",
      "metadata": {
        "id": "f24a85f7"
      },
      "source": [
        "Reasoning:\n",
        "Save the generated plot to the outputs directory.\n",
        "\n"
      ]
    },
    {
      "cell_type": "code",
      "metadata": {
        "colab": {
          "base_uri": "https://localhost:8080/",
          "height": 34
        },
        "id": "ZTFUvP7R__Y3",
        "outputId": "815e4ba1-871e-4b1c-bbed-9a3c0aa25c18"
      },
      "source": [
        "plt.savefig('outputs/volume_fear_greed_boxplot.png')"
      ],
      "execution_count": 16,
      "outputs": [
        {
          "output_type": "display_data",
          "data": {
            "text/plain": [
              "<Figure size 640x480 with 0 Axes>"
            ]
          },
          "metadata": {}
        }
      ]
    },
    {
      "cell_type": "markdown",
      "metadata": {
        "id": "fa5cb73d"
      },
      "source": [
        "## Generate correlation heatmap\n",
        "\n",
        "### Subtask:\n",
        "Compute and visualize the correlation matrix of the relevant metrics.\n"
      ]
    },
    {
      "cell_type": "markdown",
      "metadata": {
        "id": "b359da78"
      },
      "source": [
        "Reasoning:\n",
        "Select the relevant numerical columns, compute the correlation matrix, and visualize it as a heatmap using seaborn with annotations for clarity.\n",
        "\n"
      ]
    },
    {
      "cell_type": "code",
      "metadata": {
        "colab": {
          "base_uri": "https://localhost:8080/",
          "height": 807
        },
        "id": "385243ae",
        "outputId": "9e53ab42-dc29-4704-f049-7fc55e71c15b"
      },
      "source": [
        "import matplotlib.pyplot as plt\n",
        "import seaborn as sns\n",
        "\n",
        "# Select relevant numerical columns\n",
        "correlation_data = daily_metrics[['avg_closed_pnl', 'total_closed_pnl', 'avg_leverage', 'total_volume', 'leverage_std', 'position_size_std', 'fear_greed_value']]\n",
        "\n",
        "# Compute the correlation matrix\n",
        "correlation_matrix = correlation_data.corr()\n",
        "\n",
        "# Create a heatmap\n",
        "plt.figure(figsize=(10, 8))\n",
        "sns.heatmap(correlation_matrix, annot=True, cmap='coolwarm', fmt=\".2f\")\n",
        "plt.title('Correlation Heatmap of Daily Metrics and Sentiment')\n",
        "plt.tight_layout()\n",
        "plt.show()"
      ],
      "execution_count": 17,
      "outputs": [
        {
          "output_type": "display_data",
          "data": {
            "text/plain": [
              "<Figure size 1000x800 with 2 Axes>"
            ],
            "image/png": "[encoded data removed]"
          },
          "metadata": {}
        }
      ]
    },
    {
      "cell_type": "markdown",
      "metadata": {
        "id": "c642cc39"
      },
      "source": [
        "Reasoning:\n",
        "Save the generated heatmap to the output directory.\n",
        "\n"
      ]
    },
    {
      "cell_type": "code",
      "metadata": {
        "colab": {
          "base_uri": "https://localhost:8080/",
          "height": 34
        },
        "id": "de8a8aeb",
        "outputId": "b896eb55-bc47-42f5-82bd-0fa79cdb9122"
      },
      "source": [
        "plt.savefig('outputs/correlation_heatmap.png')"
      ],
      "execution_count": 18,
      "outputs": [
        {
          "output_type": "display_data",
          "data": {
            "text/plain": [
              "<Figure size 640x480 with 0 Axes>"
            ]
          },
          "metadata": {}
        }
      ]
    },
    {
      "cell_type": "markdown",
      "metadata": {
        "id": "cde2a676"
      },
      "source": [
        "## Explaining plots\n",
        "\n",
        "### Subtask:\n",
        "Provide explanations for each of the generated plots.\n"
      ]
    },
    {
      "cell_type": "markdown",
      "metadata": {
        "id": "d985a67f"
      },
      "source": [
        "Reasoning:\n",
        "Provide explanations for each of the generated plots as requested by the subtask.\n",
        "\n"
      ]
    },
    {
      "cell_type": "code",
      "metadata": {
        "colab": {
          "base_uri": "https://localhost:8080/"
        },
        "id": "93e5f5c0",
        "outputId": "4472d6be-ef43-4d5c-9286-f110d2f130c9"
      },
      "source": [
        "print(\"Explanation for PnL Distribution Plots:\")\n",
        "print(\"The histograms show the distribution of total closed PnL on days classified as 'Fear' and 'Greed'.\")\n",
        "print(\"Both distributions appear skewed, with a concentration of PnL values around zero or slightly negative.\")\n",
        "print(\"There seems to be a wider spread of positive and negative PnL values on 'Greed' days compared to 'Fear' days.\")\n",
        "print(\"\\nExplanation for Average Leverage and Fear Greed Index Trend Plot:\")\n",
        "print(\"This plot displays the trend of average leverage and the Fear Greed Index over time.\")\n",
        "print(\"It allows us to observe how trading leverage usage changes in relation to market sentiment.\")\n",
        "print(\"Visual inspection suggests some periods where changes in average leverage might coincide with shifts in the Fear Greed Index, but a clear consistent pattern is not immediately obvious.\")\n",
        "print(\"\\nExplanation for Volume Comparison Box Plot:\")\n",
        "print(\"The box plot compares the distribution of total trading volume on 'Fear' days versus 'Greed' days.\")\n",
        "print(\"It shows the median volume (the line within the box), the interquartile range (the box itself), and potential outliers (individual points).\")\n",
        "print(\"Comparing the box plots allows us to see if there are significant differences in the typical trading volume and its variability depending on whether the market sentiment is classified as Fear or Greed.\")\n",
        "print(\"\\nExplanation for Correlation Heatmap:\")\n",
        "print(\"The correlation heatmap visualizes the pairwise correlation coefficients between selected daily metrics (PnL, leverage, volume) and the Fear Greed Index.\")\n",
        "print(\"The values range from -1 to +1, indicating the strength and direction of the linear relationship.\")\n",
        "print(\"Values close to +1 indicate a strong positive correlation, values close to -1 indicate a strong negative correlation, and values close to 0 indicate a weak correlation.\")\n",
        "print(\"This heatmap helps identify which metrics are most strongly correlated with each other and with the Fear Greed Index.\")"
      ],
      "execution_count": 19,
      "outputs": [
        {
          "output_type": "stream",
          "name": "stdout",
          "text": [
            "Explanation for PnL Distribution Plots:\n",
            "The histograms show the distribution of total closed PnL on days classified as 'Fear' and 'Greed'.\n",
            "Both distributions appear skewed, with a concentration of PnL values around zero or slightly negative.\n",
            "There seems to be a wider spread of positive and negative PnL values on 'Greed' days compared to 'Fear' days.\n",
            "\n",
            "Explanation for Average Leverage and Fear Greed Index Trend Plot:\n",
            "This plot displays the trend of average leverage and the Fear Greed Index over time.\n",
            "It allows us to observe how trading leverage usage changes in relation to market sentiment.\n",
            "Visual inspection suggests some periods where changes in average leverage might coincide with shifts in the Fear Greed Index, but a clear consistent pattern is not immediately obvious.\n",
            "\n",
            "Explanation for Volume Comparison Box Plot:\n",
            "The box plot compares the distribution of total trading volume on 'Fear' days versus 'Greed' days.\n",
            "It shows the median volume (the line within the box), the interquartile range (the box itself), and potential outliers (individual points).\n",
            "Comparing the box plots allows us to see if there are significant differences in the typical trading volume and its variability depending on whether the market sentiment is classified as Fear or Greed.\n",
            "\n",
            "Explanation for Correlation Heatmap:\n",
            "The correlation heatmap visualizes the pairwise correlation coefficients between selected daily metrics (PnL, leverage, volume) and the Fear Greed Index.\n",
            "The values range from -1 to +1, indicating the strength and direction of the linear relationship.\n",
            "Values close to +1 indicate a strong positive correlation, values close to -1 indicate a strong negative correlation, and values close to 0 indicate a weak correlation.\n",
            "This heatmap helps identify which metrics are most strongly correlated with each other and with the Fear Greed Index.\n"
          ]
        }
      ]
    },
    {
      "cell_type": "markdown",
      "metadata": {
        "id": "c28f1dc8"
      },
      "source": [
        "## Summary:\n",
        "\n",
        "### Data Analysis Key Findings\n",
        "\n",
        "*   The distribution of total closed PnL on both Fear and Greed days appears skewed, with a concentration around zero or slightly negative values. Greed days seem to exhibit a wider spread of both positive and negative PnL compared to Fear days.\n",
        "*   A time series plot of average leverage and the Fear Greed Index over time shows how these two metrics trend. While some periods may show coinciding changes, a clear, consistent relationship between average leverage and market sentiment is not immediately apparent from visual inspection.\n",
        "*   A box plot comparing total trading volume on Fear vs Greed days indicates potential differences in typical volume and its variability depending on the market sentiment classification.\n",
        "*   A correlation heatmap revealed the pairwise linear relationships between average and total closed PnL, average leverage, total volume, leverage standard deviation, position size standard deviation, and the Fear Greed Index. This heatmap helps identify which metrics have stronger correlations with each other and with market sentiment.\n",
        "\n",
        "### Insights or Next Steps\n",
        "\n",
        "*   Further statistical analysis could be performed to formally test for significant differences in PnL and volume distributions between Fear and Greed days.\n",
        "*   Investigate specific periods where average leverage and sentiment show notable coinciding movements to understand potential drivers or trading behaviors.\n"
      ]
    },
    {
      "cell_type": "code",
      "metadata": {
        "colab": {
          "base_uri": "https://localhost:8080/"
        },
        "id": "aa6ecc60",
        "outputId": "ddf9da3c-3281-4166-f87c-c3bfdef5911f"
      },
      "source": [
        "print(\"Analysis of PnL Distribution Plots:\")\n",
        "print(\"Based on the histograms:\")\n",
        "print(\"- Both Fear and Greed days show a concentration of Total Closed PnL values around zero or slightly negative.\")\n",
        "print(\"- The distribution of Total Closed PnL on Greed days appears to have a wider spread of both positive and negative values compared to Fear days.\")\n",
        "print(\"- While both sentiments show days with significant PnL, the peak frequency on Fear days is around a slightly positive PnL, whereas on Greed days, the highest frequency is near zero or a small negative PnL.\")\n",
        "print(\"- It's not definitively clear from these distributions alone whether traders are 'more profitable' in Fear or Greed. Both show the possibility of gains and losses. The wider spread on Greed days might suggest more volatility or larger potential swings in PnL during these periods.\")"
      ],
      "execution_count": 20,
      "outputs": [
        {
          "output_type": "stream",
          "name": "stdout",
          "text": [
            "Analysis of PnL Distribution Plots:\n",
            "Based on the histograms:\n",
            "- Both Fear and Greed days show a concentration of Total Closed PnL values around zero or slightly negative.\n",
            "- The distribution of Total Closed PnL on Greed days appears to have a wider spread of both positive and negative values compared to Fear days.\n",
            "- While both sentiments show days with significant PnL, the peak frequency on Fear days is around a slightly positive PnL, whereas on Greed days, the highest frequency is near zero or a small negative PnL.\n",
            "- It's not definitively clear from these distributions alone whether traders are 'more profitable' in Fear or Greed. Both show the possibility of gains and losses. The wider spread on Greed days might suggest more volatility or larger potential swings in PnL during these periods.\n"
          ]
        }
      ]
    },
    {
      "cell_type": "markdown",
      "metadata": {
        "id": "7c487c31"
      },
      "source": [
        "## Summarize leverage insights\n",
        "\n",
        "### Subtask:\n",
        "Analyze the average leverage trend plot and the correlation heatmap to determine if traders use higher leverage during Greed periods.\n"
      ]
    },
    {
      "cell_type": "markdown",
      "metadata": {
        "id": "987ff99e"
      },
      "source": [
        "Reasoning:\n",
        "Examine the average leverage and Fear Greed Index trend plot and the correlation heatmap to determine if traders use higher leverage during Greed periods and then summarize the findings.\n",
        "\n"
      ]
    },
    {
      "cell_type": "code",
      "metadata": {
        "colab": {
          "base_uri": "https://localhost:8080/"
        },
        "id": "08b6db35",
        "outputId": "f558caf8-cff5-46f5-f04d-b50edb13f638"
      },
      "source": [
        "print(\"Analyzing Average Leverage Trend Plot and Correlation Heatmap for Leverage Usage during Greed Periods:\")\n",
        "\n",
        "# 1. Examine the average leverage and Fear Greed Index trend plot (already displayed in the notebook)\n",
        "print(\"\\nObservation from Average Leverage and Fear Greed Index Trend Plot:\")\n",
        "print(\"Visually inspecting the plot, there isn't a consistently clear positive correlation between average leverage and the Fear Greed Value. There are periods where both rise or fall together, but also periods where they move in opposite directions or where one is volatile while the other is relatively stable.\")\n",
        "\n",
        "# 2. Look at the correlation heatmap and find the correlation coefficient between 'avg_leverage' and 'fear_greed_value'.\n",
        "print(\"\\nCorrelation Coefficient from Heatmap:\")\n",
        "# Access the correlation matrix from the previous step\n",
        "correlation_value = correlation_matrix.loc['avg_leverage', 'fear_greed_value']\n",
        "print(f\"The correlation coefficient between 'avg_leverage' and 'fear_greed_value' is: {correlation_value:.2f}\")\n",
        "\n",
        "# 3. Summarize based on the visual analysis and correlation coefficient.\n",
        "print(\"\\nSummary based on Trend Plot and Correlation Heatmap:\")\n",
        "if abs(correlation_value) < 0.1:\n",
        "    correlation_strength = \"very weak\"\n",
        "elif abs(correlation_value) < 0.3:\n",
        "    correlation_strength = \"weak\"\n",
        "elif abs(correlation_value) < 0.5:\n",
        "    correlation_strength = \"moderate\"\n",
        "else:\n",
        "    correlation_strength = \"strong\"\n",
        "\n",
        "correlation_direction = \"positive\" if correlation_value > 0 else \"negative\" if correlation_value < 0 else \"no\"\n",
        "\n",
        "print(f\"The correlation coefficient of {correlation_value:.2f} indicates a {correlation_strength} {correlation_direction} linear relationship between average leverage and the Fear Greed Value.\")\n",
        "print(\"Based on both the visual trend analysis and the correlation coefficient, there is no strong evidence to suggest that traders consistently use significantly higher leverage during Greed periods.\")\n",
        "print(\"The relationship appears weak and not consistently positive.\")"
      ],
      "execution_count": 21,
      "outputs": [
        {
          "output_type": "stream",
          "name": "stdout",
          "text": [
            "Analyzing Average Leverage Trend Plot and Correlation Heatmap for Leverage Usage during Greed Periods:\n",
            "\n",
            "Observation from Average Leverage and Fear Greed Index Trend Plot:\n",
            "Visually inspecting the plot, there isn't a consistently clear positive correlation between average leverage and the Fear Greed Value. There are periods where both rise or fall together, but also periods where they move in opposite directions or where one is volatile while the other is relatively stable.\n",
            "\n",
            "Correlation Coefficient from Heatmap:\n",
            "The correlation coefficient between 'avg_leverage' and 'fear_greed_value' is: -0.11\n",
            "\n",
            "Summary based on Trend Plot and Correlation Heatmap:\n",
            "The correlation coefficient of -0.11 indicates a weak negative linear relationship between average leverage and the Fear Greed Value.\n",
            "Based on both the visual trend analysis and the correlation coefficient, there is no strong evidence to suggest that traders consistently use significantly higher leverage during Greed periods.\n",
            "The relationship appears weak and not consistently positive.\n"
          ]
        }
      ]
    },
    {
      "cell_type": "markdown",
      "metadata": {
        "id": "3b1f3cb6"
      },
      "source": [
        "Reasoning:\n",
        "Analyze the volume comparison box plot and the correlation heatmap to determine if trading volume is higher during Greed periods and then summarize the findings.\n",
        "\n"
      ]
    },
    {
      "cell_type": "code",
      "metadata": {
        "colab": {
          "base_uri": "https://localhost:8080/"
        },
        "id": "ca60efe3",
        "outputId": "2a59856a-18da-4850-997b-1b2434cd9fb0"
      },
      "source": [
        "print(\"\\nAnalyzing Volume Comparison Box Plot and Correlation Heatmap for Trading Volume during Greed Periods:\")\n",
        "\n",
        "# 1. Examine the volume comparison box plot (already displayed in the notebook)\n",
        "print(\"\\nObservation from Volume Comparison Box Plot:\")\n",
        "print(\"The box plot shows that the median total volume on Greed days appears to be lower than on Fear days. However, the spread (interquartile range) and the presence of outliers suggest that Greed days can have significantly higher trading volumes, although the typical volume might be lower or similar to Fear days.\")\n",
        "\n",
        "# 2. Look at the correlation heatmap and find the correlation coefficient between 'total_volume' and 'fear_greed_value'.\n",
        "print(\"\\nCorrelation Coefficient from Heatmap:\")\n",
        "# Access the correlation matrix from the previous step\n",
        "correlation_value_volume = correlation_matrix.loc['total_volume', 'fear_greed_value']\n",
        "print(f\"The correlation coefficient between 'total_volume' and 'fear_greed_value' is: {correlation_value_volume:.2f}\")\n",
        "\n",
        "# 3. Summarize based on the visual analysis and correlation coefficient.\n",
        "print(\"\\nSummary based on Box Plot and Correlation Heatmap:\")\n",
        "if abs(correlation_value_volume) < 0.1:\n",
        "    correlation_strength_volume = \"very weak\"\n",
        "elif abs(correlation_value_volume) < 0.3:\n",
        "    correlation_strength_volume = \"weak\"\n",
        "elif abs(correlation_value_volume) < 0.5:\n",
        "    correlation_strength_volume = \"moderate\"\n",
        "else:\n",
        "    correlation_strength_volume = \"strong\"\n",
        "\n",
        "correlation_direction_volume = \"positive\" if correlation_value_volume > 0 else \"negative\" if correlation_value_volume < 0 else \"no\"\n",
        "\n",
        "print(f\"The correlation coefficient of {correlation_value_volume:.2f} indicates a {correlation_strength_volume} {correlation_direction_volume} linear relationship between total volume and the Fear Greed Value.\")\n",
        "print(\"While the box plot shows a lower median volume on Greed days, the negative correlation coefficient suggests a tendency for lower volume as the Fear Greed Index increases (more Greed). This contradicts the initial visual impression from the box plot's median, highlighting the importance of looking at the distribution and outliers. The correlation is weak, suggesting the relationship isn't strong or consistent.\")"
      ],
      "execution_count": 22,
      "outputs": [
        {
          "output_type": "stream",
          "name": "stdout",
          "text": [
            "\n",
            "Analyzing Volume Comparison Box Plot and Correlation Heatmap for Trading Volume during Greed Periods:\n",
            "\n",
            "Observation from Volume Comparison Box Plot:\n",
            "The box plot shows that the median total volume on Greed days appears to be lower than on Fear days. However, the spread (interquartile range) and the presence of outliers suggest that Greed days can have significantly higher trading volumes, although the typical volume might be lower or similar to Fear days.\n",
            "\n",
            "Correlation Coefficient from Heatmap:\n",
            "The correlation coefficient between 'total_volume' and 'fear_greed_value' is: -0.20\n",
            "\n",
            "Summary based on Box Plot and Correlation Heatmap:\n",
            "The correlation coefficient of -0.20 indicates a weak negative linear relationship between total volume and the Fear Greed Value.\n",
            "While the box plot shows a lower median volume on Greed days, the negative correlation coefficient suggests a tendency for lower volume as the Fear Greed Index increases (more Greed). This contradicts the initial visual impression from the box plot's median, highlighting the importance of looking at the distribution and outliers. The correlation is weak, suggesting the relationship isn't strong or consistent.\n"
          ]
        }
      ]
    },
    {
      "cell_type": "markdown",
      "metadata": {
        "id": "f4bbed51"
      },
      "source": [
        "Reasoning:\n",
        "Analyze the PnL distribution plots and the correlation heatmap to determine if conservative traders win in Fear periods and then summarize the findings.\n",
        "\n"
      ]
    },
    {
      "cell_type": "code",
      "metadata": {
        "colab": {
          "base_uri": "https://localhost:8080/"
        },
        "id": "df9f4b78",
        "outputId": "a2e6e690-51a9-494f-fe3e-bc37d52df4cc"
      },
      "source": [
        "print(\"\\nAnalyzing PnL Distribution Plots and Correlation Heatmap for Conservative Traders in Fear Periods:\")\n",
        "\n",
        "# 1. Examine the PnL distribution plot for Fear days (already displayed in the notebook)\n",
        "print(\"\\nObservation from PnL Distribution Plot for Fear Days:\")\n",
        "print(\"The distribution of Total Closed PnL on Fear days shows a peak frequency around a slightly positive PnL, with some instances of larger positive PnL. This suggests that it is possible to achieve positive PnL during Fear periods.\")\n",
        "\n",
        "# 2. Look at the correlation heatmap and consider relevant correlations.\n",
        "print(\"\\nCorrelation Coefficients from Heatmap:\")\n",
        "# Consider correlations that might relate to \"conservative\" trading and PnL in Fear.\n",
        "# There isn't a direct metric for \"conservative traders\". We can look at PnL in relation to Fear and potentially risk metrics like leverage_std or position_size_std.\n",
        "correlation_pnl_fear = correlation_matrix.loc['total_closed_pnl', 'fear_greed_value']\n",
        "correlation_pnl_leverage_std = correlation_matrix.loc['total_closed_pnl', 'leverage_std']\n",
        "correlation_pnl_position_std = correlation_matrix.loc['total_closed_pnl', 'position_size_std']\n",
        "\n",
        "print(f\"Correlation between Total Closed PnL and Fear Greed Value: {correlation_pnl_fear:.2f}\")\n",
        "print(f\"Correlation between Total Closed PnL and Leverage Std: {correlation_pnl_leverage_std:.2f}\")\n",
        "print(f\"Correlation between Total Closed PnL and Position Size Std: {correlation_pnl_position_std:.2f}\")\n",
        "\n",
        "\n",
        "# 3. Summarize based on the visual analysis and correlation coefficients.\n",
        "print(\"\\nSummary based on PnL Distribution and Correlation Heatmap:\")\n",
        "print(\"The PnL distribution plot for Fear days indicates that positive PnL is achievable during these periods.\")\n",
        "print(f\"The correlation between Total Closed PnL and Fear Greed Value is {correlation_pnl_fear:.2f} (weak negative), suggesting a very weak tendency for lower PnL as Fear increases (lower Fear Greed Value).\")\n",
        "print(f\"The correlations between Total Closed PnL and risk metrics (Leverage Std: {correlation_pnl_leverage_std:.2f}, Position Size Std: {correlation_pnl_position_std:.2f}) are weak.\")\n",
        "print(\"Without a direct measure of 'conservative trading', it's difficult to definitively conclude from this data whether conservative traders specifically 'win' in Fear. However, positive PnL is possible during Fear periods, and the weak correlations don't strongly suggest that lower risk-taking (implied by 'conservative') is consistently associated with higher PnL in these periods.\")"
      ],
      "execution_count": 23,
      "outputs": [
        {
          "output_type": "stream",
          "name": "stdout",
          "text": [
            "\n",
            "Analyzing PnL Distribution Plots and Correlation Heatmap for Conservative Traders in Fear Periods:\n",
            "\n",
            "Observation from PnL Distribution Plot for Fear Days:\n",
            "The distribution of Total Closed PnL on Fear days shows a peak frequency around a slightly positive PnL, with some instances of larger positive PnL. This suggests that it is possible to achieve positive PnL during Fear periods.\n",
            "\n",
            "Correlation Coefficients from Heatmap:\n",
            "Correlation between Total Closed PnL and Fear Greed Value: -0.07\n",
            "Correlation between Total Closed PnL and Leverage Std: -0.09\n",
            "Correlation between Total Closed PnL and Position Size Std: 0.20\n",
            "\n",
            "Summary based on PnL Distribution and Correlation Heatmap:\n",
            "The PnL distribution plot for Fear days indicates that positive PnL is achievable during these periods.\n",
            "The correlation between Total Closed PnL and Fear Greed Value is -0.07 (weak negative), suggesting a very weak tendency for lower PnL as Fear increases (lower Fear Greed Value).\n",
            "The correlations between Total Closed PnL and risk metrics (Leverage Std: -0.09, Position Size Std: 0.20) are weak.\n",
            "Without a direct measure of 'conservative trading', it's difficult to definitively conclude from this data whether conservative traders specifically 'win' in Fear. However, positive PnL is possible during Fear periods, and the weak correlations don't strongly suggest that lower risk-taking (implied by 'conservative') is consistently associated with higher PnL in these periods.\n"
          ]
        }
      ]
    },
    {
      "cell_type": "markdown",
      "metadata": {
        "id": "491023a1"
      },
      "source": [
        "Reasoning:\n",
        "The EDA is complete, and the insights have been summarized. The next step is to draft the text for the PDF report, starting with the Introduction section as requested by the subtask.\n",
        "\n"
      ]
    },
    {
      "cell_type": "code",
      "metadata": {
        "colab": {
          "base_uri": "https://localhost:8080/"
        },
        "id": "c29bbf8c",
        "outputId": "9b601fc6-0c52-4d4f-9ac7-36aff8ae4d4a"
      },
      "source": [
        "print(\"2-3 Page PDF Report Draft\")\n",
        "print(\"\\n Introduction\")\n",
        "print(\"This report presents an exploratory data analysis of historical trading data combined with the Fear and Greed Index. The objective is to understand the relationships between market sentiment, trading behavior (leverage and volume), and profitability (PnL). By analyzing daily aggregated metrics, we aim to gain insights into how different market conditions, as reflected by the Fear and Greed Index, correlate with trading outcomes and risk-taking.\")"
      ],
      "execution_count": 42,
      "outputs": [
        {
          "output_type": "stream",
          "name": "stdout",
          "text": [
            "2-3 Page PDF Report Draft\n",
            "\n",
            " Introduction\n",
            "This report presents an exploratory data analysis of historical trading data combined with the Fear and Greed Index. The objective is to understand the relationships between market sentiment, trading behavior (leverage and volume), and profitability (PnL). By analyzing daily aggregated metrics, we aim to gain insights into how different market conditions, as reflected by the Fear and Greed Index, correlate with trading outcomes and risk-taking.\n"
          ]
        }
      ]
    },
    {
      "cell_type": "code",
      "metadata": {
        "colab": {
          "base_uri": "https://localhost:8080/"
        },
        "id": "d8ec072b",
        "outputId": "f5c5069a-5471-46f6-ffe1-7886ee51be2b"
      },
      "source": [
        "print(\"\\n Data Preparation\")\n",
        "print(\"The analysis utilized two datasets: historical trading data and the Fear and Greed Index. The data preparation phase involved several key steps to ensure the data was in a suitable format for analysis.\")\n",
        "print(\"\\n1.  Data Loading and Initial Inspection: The historical trading data and the Fear and Greed Index data were loaded into pandas DataFrames. Initial inspection confirmed that both datasets were free of missing values and duplicate rows. The data types were also examined.\")\n",
        "print(\"\\n2.  Data Type Conversion: The timestamp columns ('Timestamp IST' in historical data and 'date' in Fear and Greed Index) were converted to datetime objects to facilitate time-based analysis and merging.\")\n",
        "print(\"\\n3.  Column Name Standardization: Column names in both DataFrames were standardized to lowercase with underscores for consistency and ease of access.\")\n",
        "print(\"\\n4.  Data Saving: The cleaned historical and Fear and Greed Index DataFrames were saved to CSV files ('historical_data_cleaned.csv' and 'fear_greed_index_cleaned.csv') in the '/csv_files/' directory.\")\n",
        "print(\"\\n5.  Data Merging: The two cleaned DataFrames were merged based on the date component of their respective timestamp columns, allowing for the combination of trading data with daily market sentiment.\")\n",
        "print(\"\\n6.  Daily Metrics Computation: Daily aggregated metrics were computed from the merged dataset. These included the average and total closed PnL, average leverage, total trading volume (calculated as the sum of size in USD), and the standard deviation of leverage and position sizes. These metrics provide a daily summary of trading activity and outcomes.\")\n",
        "print(\"\\n7.  Processed Data Saving: The resulting daily metrics DataFrame, containing the processed data for analysis, was saved to a CSV file named 'processed_data.csv' in the '/csv_files/' directory.\")"
      ],
      "execution_count": 39,
      "outputs": [
        {
          "output_type": "stream",
          "name": "stdout",
          "text": [
            "\n",
            " Data Preparation\n",
            "The analysis utilized two datasets: historical trading data and the Fear and Greed Index. The data preparation phase involved several key steps to ensure the data was in a suitable format for analysis.\n",
            "\n",
            "1.  Data Loading and Initial Inspection: The historical trading data and the Fear and Greed Index data were loaded into pandas DataFrames. Initial inspection confirmed that both datasets were free of missing values and duplicate rows. The data types were also examined.\n",
            "\n",
            "2.  Data Type Conversion: The timestamp columns ('Timestamp IST' in historical data and 'date' in Fear and Greed Index) were converted to datetime objects to facilitate time-based analysis and merging.\n",
            "\n",
            "3.  Column Name Standardization: Column names in both DataFrames were standardized to lowercase with underscores for consistency and ease of access.\n",
            "\n",
            "4.  Data Saving: The cleaned historical and Fear and Greed Index DataFrames were saved to CSV files ('historical_data_cleaned.csv' and 'fear_greed_index_cleaned.csv') in the '/csv_files/' directory.\n",
            "\n",
            "5.  Data Merging: The two cleaned DataFrames were merged based on the date component of their respective timestamp columns, allowing for the combination of trading data with daily market sentiment.\n",
            "\n",
            "6.  Daily Metrics Computation: Daily aggregated metrics were computed from the merged dataset. These included the average and total closed PnL, average leverage, total trading volume (calculated as the sum of size in USD), and the standard deviation of leverage and position sizes. These metrics provide a daily summary of trading activity and outcomes.\n",
            "\n",
            "7.  Processed Data Saving: The resulting daily metrics DataFrame, containing the processed data for analysis, was saved to a CSV file named 'processed_data.csv' in the '/csv_files/' directory.\n"
          ]
        }
      ]
    },
    {
      "cell_type": "code",
      "metadata": {
        "colab": {
          "base_uri": "https://localhost:8080/"
        },
        "id": "5eb589da",
        "outputId": "941575dd-6c35-4ce0-a1c9-de40f050e57d"
      },
      "source": [
        "print(\"\\n Features\")\n",
        "print(\"The following key features were derived and used for the exploratory data analysis:\")\n",
        "print(\"\\n*   Average Closed PnL: The mean profit or loss from closed trades on a given day.\")\n",
        "print(\"\\n*   Total Closed PnL: The sum of profit or loss from all closed trades on a given day.\")\n",
        "print(\"\\n*   Average Leverage: The mean starting position size, used as a proxy for leverage applied by traders on a given day.\")\n",
        "print(\"\\n*   Total Volume: The sum of trade sizes in USD on a given day, representing the total trading activity.\")\n",
        "print(\"\\n*   Leverage Standard Deviation: A measure of the variability or dispersion of leverage used by traders on a given day, indicating risk-taking consistency.\")\n",
        "print(\"\\n*   Position Size Standard Deviation: A measure of the variability or dispersion of position sizes on a given day, also indicating risk-taking consistency.\")\n",
        "print(\"\\n*   Fear Greed Value: The numerical value of the Fear and Greed Index for a given day, ranging from 0 (Extreme Fear) to 100 (Extreme Greed).\")\n",
        "print(\"\\n*   Fear Greed Classification: The categorical classification of the Fear and Greed Index for a given day (e.g., Extreme Fear, Fear, Neutral, Greed, Extreme Greed).\")"
      ],
      "execution_count": 40,
      "outputs": [
        {
          "output_type": "stream",
          "name": "stdout",
          "text": [
            "\n",
            " Features\n",
            "The following key features were derived and used for the exploratory data analysis:\n",
            "\n",
            "*   Average Closed PnL: The mean profit or loss from closed trades on a given day.\n",
            "\n",
            "*   Total Closed PnL: The sum of profit or loss from all closed trades on a given day.\n",
            "\n",
            "*   Average Leverage: The mean starting position size, used as a proxy for leverage applied by traders on a given day.\n",
            "\n",
            "*   Total Volume: The sum of trade sizes in USD on a given day, representing the total trading activity.\n",
            "\n",
            "*   Leverage Standard Deviation: A measure of the variability or dispersion of leverage used by traders on a given day, indicating risk-taking consistency.\n",
            "\n",
            "*   Position Size Standard Deviation: A measure of the variability or dispersion of position sizes on a given day, also indicating risk-taking consistency.\n",
            "\n",
            "*   Fear Greed Value: The numerical value of the Fear and Greed Index for a given day, ranging from 0 (Extreme Fear) to 100 (Extreme Greed).\n",
            "\n",
            "*   Fear Greed Classification: The categorical classification of the Fear and Greed Index for a given day (e.g., Extreme Fear, Fear, Neutral, Greed, Extreme Greed).\n"
          ]
        }
      ]
    },
    {
      "cell_type": "markdown",
      "metadata": {
        "id": "2ffe8adf"
      },
      "source": [
        "Reasoning:\n",
        "Add the \"Insights\" section to the PDF report draft, summarizing the key findings from the EDA, specifically addressing the questions about profitability, leverage, volume, and conservative trading in relation to Fear and Greed periods, referencing the generated plots.\n",
        "\n"
      ]
    },
    {
      "cell_type": "code",
      "metadata": {
        "colab": {
          "base_uri": "https://localhost:8080/"
        },
        "id": "c375dd98",
        "outputId": "70f8c873-1252-4889-d55d-48eefd104e55"
      },
      "source": [
        "print(\"\\nInsights\")\n",
        "print(\"The exploratory data analysis revealed several insights regarding the relationship between market sentiment and trading characteristics:\")\n",
        "\n",
        "print(\"\\n*   Profitability in Fear vs Greed: As shown in the PnL distribution plots (Figure 1), both Fear and Greed days exhibit a concentration of PnL around zero or slightly negative. Greed days appear to have a wider spread of both positive and negative PnL, potentially indicating higher volatility in outcomes. It is not definitively clear that traders are consistently 'more profitable' in one sentiment over the other based solely on these distributions.\")\n",
        "\n",
        "print(\"\\n*   Leverage Usage in Greed: The trend plot of Average Leverage and Fear Greed Index (Figure 2) and the correlation heatmap (Figure 4) were examined to assess if traders use higher leverage during Greed periods. The visual trend analysis did not show a consistently clear positive relationship. The correlation coefficient between average leverage and Fear Greed Value was found to be weak and negative ({:.2f}), suggesting a slight tendency for lower average leverage as sentiment moves towards Greed. This does not support the hypothesis that traders consistently use higher leverage during Greed periods.\".format(correlation_value))\n",
        "\n",
        "print(\"\\n*   Trading Volume in Greed: The box plot comparing total volume on Fear vs Greed days (Figure 3) and the correlation heatmap (Figure 4) were used to assess trading volume. The box plot showed a lower median volume on Greed days, but with notable outliers suggesting potential for high volume days. The correlation coefficient between total volume and Fear Greed Value was weak and negative ({:.2f}). This suggests a weak tendency for lower total volume as sentiment moves towards Greed, which slightly contradicts the visual impression of high-volume outliers on Greed days but aligns with the lower median.\".format(correlation_value_volume))\n",
        "\n",
        "print(\"\\n*   Conservative Traders in Fear: The PnL distribution plot for Fear days (Figure 1) indicates that positive PnL is achievable during Fear periods. The correlation heatmap (Figure 4) showed a very weak negative correlation between Total Closed PnL and Fear Greed Value ({:.2f}), and weak correlations between Total Closed PnL and risk metrics (Leverage Std: {:.2f}, Position Size Std: {:.2f}). While positive outcomes are possible in Fear, there is no strong evidence from this analysis to conclude that 'conservative' traders specifically or consistently 'win' during these periods. The relationship between risk-taking levels and PnL in different sentiments would require a more granular analysis.\".format(correlation_pnl_fear, correlation_pnl_leverage_std, correlation_pnl_position_std))"
      ],
      "execution_count": 43,
      "outputs": [
        {
          "output_type": "stream",
          "name": "stdout",
          "text": [
            "\n",
            "Insights\n",
            "The exploratory data analysis revealed several insights regarding the relationship between market sentiment and trading characteristics:\n",
            "\n",
            "*   Profitability in Fear vs Greed: As shown in the PnL distribution plots (Figure 1), both Fear and Greed days exhibit a concentration of PnL around zero or slightly negative. Greed days appear to have a wider spread of both positive and negative PnL, potentially indicating higher volatility in outcomes. It is not definitively clear that traders are consistently 'more profitable' in one sentiment over the other based solely on these distributions.\n",
            "\n",
            "*   Leverage Usage in Greed: The trend plot of Average Leverage and Fear Greed Index (Figure 2) and the correlation heatmap (Figure 4) were examined to assess if traders use higher leverage during Greed periods. The visual trend analysis did not show a consistently clear positive relationship. The correlation coefficient between average leverage and Fear Greed Value was found to be weak and negative (-0.11), suggesting a slight tendency for lower average leverage as sentiment moves towards Greed. This does not support the hypothesis that traders consistently use higher leverage during Greed periods.\n",
            "\n",
            "*   Trading Volume in Greed: The box plot comparing total volume on Fear vs Greed days (Figure 3) and the correlation heatmap (Figure 4) were used to assess trading volume. The box plot showed a lower median volume on Greed days, but with notable outliers suggesting potential for high volume days. The correlation coefficient between total volume and Fear Greed Value was weak and negative (-0.20). This suggests a weak tendency for lower total volume as sentiment moves towards Greed, which slightly contradicts the visual impression of high-volume outliers on Greed days but aligns with the lower median.\n",
            "\n",
            "*   Conservative Traders in Fear: The PnL distribution plot for Fear days (Figure 1) indicates that positive PnL is achievable during Fear periods. The correlation heatmap (Figure 4) showed a very weak negative correlation between Total Closed PnL and Fear Greed Value (-0.07), and weak correlations between Total Closed PnL and risk metrics (Leverage Std: -0.09, Position Size Std: 0.20). While positive outcomes are possible in Fear, there is no strong evidence from this analysis to conclude that 'conservative' traders specifically or consistently 'win' during these periods. The relationship between risk-taking levels and PnL in different sentiments would require a more granular analysis.\n"
          ]
        }
      ]
    },
    {
      "cell_type": "code",
      "metadata": {
        "colab": {
          "base_uri": "https://localhost:8080/"
        },
        "id": "1168569f",
        "outputId": "036a42b7-a6cf-4931-97c1-ac8bf4e3c1ab"
      },
      "source": [
        "print(\"\\n Implications\")\n",
        "print(\"The findings from this exploratory analysis have several potential implications for traders and investors:\")\n",
        "\n",
        "print(\"\\n*   Sentiment and Profitability: The similar, albeit wider-spread, PnL distributions in Fear and Greed suggest that extreme sentiment alone may not be a definitive indicator of profitability. Success likely depends more on individual trading strategies, risk management, and execution rather than simply trading during a specific sentiment period.\")\n",
        "\n",
        "print(\"\\n*   Leverage and Sentiment: The weak negative correlation between average leverage and the Fear Greed Index is counterintuitive if one assumes traders become overly aggressive (higher leverage) in Greed. This finding warrants further investigation to understand the factors influencing leverage decisions during different market sentiments. It might suggest that sophisticated traders reduce leverage in highly greedy markets, or that the aggregate data masks diverse individual behaviors.\")\n",
        "\n",
        "print(\"\\n*   Volume and Sentiment: The weak negative correlation between total volume and the Fear Greed Index, alongside the observation of high-volume outliers in Greed, indicates a complex relationship. While typical volume might not increase with Greed, periods of extreme Greed could coincide with significant trading activity, possibly driven by large players or specific market events. Traders should be aware of the potential for increased volatility and larger market movements during such times.\")\n",
        "\n",
        "print(\"\\n*   Risk Management: The weak correlations between PnL and risk metrics (leverage and position size standard deviations) across sentiment suggest that simply reducing or increasing risk-taking across the board based on sentiment might not directly lead to improved profitability. A more nuanced approach to risk management tailored to specific strategies and market conditions, regardless of the prevailing sentiment, is likely more effective.\")\n",
        "\n",
        "print(\"\\n*   Further Research: This analysis is exploratory. Deeper dives into specific trading strategies, coin-specific analysis, and the impact of other market factors are needed to draw more definitive conclusions and develop actionable trading insights.\")"
      ],
      "execution_count": 44,
      "outputs": [
        {
          "output_type": "stream",
          "name": "stdout",
          "text": [
            "\n",
            " Implications\n",
            "The findings from this exploratory analysis have several potential implications for traders and investors:\n",
            "\n",
            "*   Sentiment and Profitability: The similar, albeit wider-spread, PnL distributions in Fear and Greed suggest that extreme sentiment alone may not be a definitive indicator of profitability. Success likely depends more on individual trading strategies, risk management, and execution rather than simply trading during a specific sentiment period.\n",
            "\n",
            "*   Leverage and Sentiment: The weak negative correlation between average leverage and the Fear Greed Index is counterintuitive if one assumes traders become overly aggressive (higher leverage) in Greed. This finding warrants further investigation to understand the factors influencing leverage decisions during different market sentiments. It might suggest that sophisticated traders reduce leverage in highly greedy markets, or that the aggregate data masks diverse individual behaviors.\n",
            "\n",
            "*   Volume and Sentiment: The weak negative correlation between total volume and the Fear Greed Index, alongside the observation of high-volume outliers in Greed, indicates a complex relationship. While typical volume might not increase with Greed, periods of extreme Greed could coincide with significant trading activity, possibly driven by large players or specific market events. Traders should be aware of the potential for increased volatility and larger market movements during such times.\n",
            "\n",
            "*   Risk Management: The weak correlations between PnL and risk metrics (leverage and position size standard deviations) across sentiment suggest that simply reducing or increasing risk-taking across the board based on sentiment might not directly lead to improved profitability. A more nuanced approach to risk management tailored to specific strategies and market conditions, regardless of the prevailing sentiment, is likely more effective.\n",
            "\n",
            "*   Further Research: This analysis is exploratory. Deeper dives into specific trading strategies, coin-specific analysis, and the impact of other market factors are needed to draw more definitive conclusions and develop actionable trading insights.\n"
          ]
        }
      ]
    },
    {
      "cell_type": "markdown",
      "metadata": {
        "id": "2bc9935e"
      },
      "source": [
        "## Draft implications section\n",
        "\n",
        "### Subtask:\n",
        "Discuss the potential implications of the findings for trading strategies.\n"
      ]
    },
    {
      "cell_type": "markdown",
      "metadata": {
        "id": "67da87f3"
      },
      "source": [
        "Reasoning:\n",
        "Draft the conclusion section for the report, summarizing the key findings and reiterating the need for further, more detailed analysis.\n",
        "\n"
      ]
    },
    {
      "cell_type": "code",
      "metadata": {
        "colab": {
          "base_uri": "https://localhost:8080/"
        },
        "id": "df5c585a",
        "outputId": "7efd9301-0ab7-4597-fdd1-c0868e79f54d"
      },
      "source": [
        "print(\"\\n### Conclusion\")\n",
        "print(\"This exploratory data analysis has provided initial insights into the relationship between market sentiment, as captured by the Fear and Greed Index, and key trading metrics such as PnL, leverage, and volume. The findings suggest that the relationship between sentiment and trading outcomes is not straightforward. While Greed days may exhibit higher volatility in PnL and potential for extreme volume, there is no strong evidence to support simple hypotheses like traders being consistently more profitable or using higher leverage during Greed periods.\")\n",
        "print(\"The weak correlations observed between sentiment and trading metrics highlight the complexity of market behavior and the numerous factors that influence trading decisions and profitability beyond just the prevailing sentiment. Effective trading strategies likely involve a more nuanced approach to risk management, leverage, and volume based on specific market conditions and individual analysis rather than solely relying on a single sentiment indicator.\")\n",
        "print(\"Future research could delve deeper into these relationships by analyzing data at a finer granularity, examining specific trading strategies, incorporating other market indicators, and employing more advanced statistical modeling techniques to uncover causal relationships and develop more robust, data-driven trading insights.\")"
      ],
      "execution_count": 29,
      "outputs": [
        {
          "output_type": "stream",
          "name": "stdout",
          "text": [
            "\n",
            "### Conclusion\n",
            "This exploratory data analysis has provided initial insights into the relationship between market sentiment, as captured by the Fear and Greed Index, and key trading metrics such as PnL, leverage, and volume. The findings suggest that the relationship between sentiment and trading outcomes is not straightforward. While Greed days may exhibit higher volatility in PnL and potential for extreme volume, there is no strong evidence to support simple hypotheses like traders being consistently more profitable or using higher leverage during Greed periods.\n",
            "The weak correlations observed between sentiment and trading metrics highlight the complexity of market behavior and the numerous factors that influence trading decisions and profitability beyond just the prevailing sentiment. Effective trading strategies likely involve a more nuanced approach to risk management, leverage, and volume based on specific market conditions and individual analysis rather than solely relying on a single sentiment indicator.\n",
            "Future research could delve deeper into these relationships by analyzing data at a finer granularity, examining specific trading strategies, incorporating other market indicators, and employing more advanced statistical modeling techniques to uncover causal relationships and develop more robust, data-driven trading insights.\n"
          ]
        }
      ]
    },
    {
      "cell_type": "markdown",
      "metadata": {
        "id": "88aa947b"
      },
      "source": [
        "## Summarize volume insights\n",
        "\n",
        "### Subtask:\n",
        "Compare the total volume on Fear vs Greed days.\n"
      ]
    },
    {
      "cell_type": "markdown",
      "metadata": {
        "id": "f3297ee4"
      },
      "source": [
        "Reasoning:\n",
        "Examine the box plot and the correlation heatmap to analyze the relationship between total volume and the Fear Greed Index, and then summarize the findings.\n",
        "\n"
      ]
    },
    {
      "cell_type": "code",
      "metadata": {
        "colab": {
          "base_uri": "https://localhost:8080/"
        },
        "id": "e853914f",
        "outputId": "05b5df70-0f7c-46b3-a5c7-1d8dbc320e4c"
      },
      "source": [
        "print(\"\\nAnalyzing Volume Comparison Box Plot and Correlation Heatmap for Trading Volume during Greed Periods:\")\n",
        "\n",
        "# 1. Examine the volume comparison box plot (already displayed in the notebook)\n",
        "print(\"\\nObservation from Volume Comparison Box Plot:\")\n",
        "print(\"The box plot shows that the median total volume on Greed days appears to be lower than on Fear days. However, the spread (interquartile range) and the presence of outliers suggest that Greed days can have significantly higher trading volumes, although the typical volume might be lower or similar to Fear days.\")\n",
        "\n",
        "# 2. Look at the correlation heatmap and find the correlation coefficient between 'total_volume' and 'fear_greed_value'.\n",
        "print(\"\\nCorrelation Coefficient from Heatmap:\")\n",
        "# Access the correlation matrix from the previous step\n",
        "correlation_value_volume = correlation_matrix.loc['total_volume', 'fear_greed_value']\n",
        "print(f\"The correlation coefficient between 'total_volume' and 'fear_greed_value' is: {correlation_value_volume:.2f}\")\n",
        "\n",
        "# 3. Summarize based on the visual analysis and correlation coefficient.\n",
        "print(\"\\nSummary based on Box Plot and Correlation Heatmap:\")\n",
        "if abs(correlation_value_volume) < 0.1:\n",
        "    correlation_strength_volume = \"very weak\"\n",
        "elif abs(correlation_value_volume) < 0.3:\n",
        "    correlation_strength_volume = \"weak\"\n",
        "elif abs(correlation_value_volume) < 0.5:\n",
        "    correlation_strength_volume = \"moderate\"\n",
        "else:\n",
        "    correlation_strength_volume = \"strong\"\n",
        "\n",
        "correlation_direction_volume = \"positive\" if correlation_value_volume > 0 else \"negative\" if correlation_value_volume < 0 else \"no\"\n",
        "\n",
        "print(f\"The correlation coefficient of {correlation_value_volume:.2f} indicates a {correlation_strength_volume} {correlation_direction_volume} linear relationship between total volume and the Fear Greed Value.\")\n",
        "print(\"While the box plot shows a lower median volume on Greed days, the negative correlation coefficient suggests a tendency for lower volume as the Fear Greed Index increases (more Greed). This contradicts the initial visual impression from the box plot's median, highlighting the importance of looking at the distribution and outliers. The correlation is weak, suggesting the relationship isn't strong or consistent.\")"
      ],
      "execution_count": 30,
      "outputs": [
        {
          "output_type": "stream",
          "name": "stdout",
          "text": [
            "\n",
            "Analyzing Volume Comparison Box Plot and Correlation Heatmap for Trading Volume during Greed Periods:\n",
            "\n",
            "Observation from Volume Comparison Box Plot:\n",
            "The box plot shows that the median total volume on Greed days appears to be lower than on Fear days. However, the spread (interquartile range) and the presence of outliers suggest that Greed days can have significantly higher trading volumes, although the typical volume might be lower or similar to Fear days.\n",
            "\n",
            "Correlation Coefficient from Heatmap:\n",
            "The correlation coefficient between 'total_volume' and 'fear_greed_value' is: -0.20\n",
            "\n",
            "Summary based on Box Plot and Correlation Heatmap:\n",
            "The correlation coefficient of -0.20 indicates a weak negative linear relationship between total volume and the Fear Greed Value.\n",
            "While the box plot shows a lower median volume on Greed days, the negative correlation coefficient suggests a tendency for lower volume as the Fear Greed Index increases (more Greed). This contradicts the initial visual impression from the box plot's median, highlighting the importance of looking at the distribution and outliers. The correlation is weak, suggesting the relationship isn't strong or consistent.\n"
          ]
        }
      ]
    },
    {
      "cell_type": "markdown",
      "metadata": {
        "id": "bfaacc0a"
      },
      "source": [
        "## Summarize conservative trader insights\n",
        "\n",
        "### Subtask:\n",
        "Based on the available data and plots, discuss potential insights regarding the profitability of conservative traders in Fear markets. Note any limitations in the data for this specific analysis.\n"
      ]
    },
    {
      "cell_type": "markdown",
      "metadata": {
        "id": "dc7d41b4"
      },
      "source": [
        "Reasoning:\n",
        "Examine the PnL distribution plot for Fear days, review the correlation heatmap, and based on these observations, discuss potential insights regarding the profitability of \"conservative\" traders in Fear markets, noting the limitations of the current data and analysis.\n",
        "\n"
      ]
    },
    {
      "cell_type": "code",
      "metadata": {
        "colab": {
          "base_uri": "https://localhost:8080/"
        },
        "id": "7ade0705",
        "outputId": "7f82b1df-ad02-40d3-fe91-25ad8ec8c3ed"
      },
      "source": [
        "print(\"\\nAnalyzing PnL Distribution Plots and Correlation Heatmap for Conservative Traders in Fear Periods:\")\n",
        "\n",
        "# 1. Examine the PnL distribution plot for Fear days (already displayed in the notebook)\n",
        "print(\"\\nObservation from PnL Distribution Plot for Fear Days:\")\n",
        "print(\"The distribution of Total Closed PnL on Fear days shows a peak frequency around a slightly positive PnL, with some instances of larger positive PnL. This suggests that it is possible to achieve positive PnL during Fear periods.\")\n",
        "\n",
        "# 2. Look at the correlation heatmap and consider relevant correlations.\n",
        "print(\"\\nCorrelation Coefficients from Heatmap:\")\n",
        "# Consider correlations that might relate to \"conservative\" trading and PnL in Fear.\n",
        "# There isn't a direct metric for \"conservative traders\". We can look at PnL in relation to Fear and potentially risk metrics like leverage_std or position_size_std.\n",
        "correlation_pnl_fear = correlation_matrix.loc['total_closed_pnl', 'fear_greed_value']\n",
        "correlation_pnl_leverage_std = correlation_matrix.loc['total_closed_pnl', 'leverage_std']\n",
        "correlation_pnl_position_std = correlation_matrix.loc['total_closed_pnl', 'position_size_std']\n",
        "\n",
        "print(f\"Correlation between Total Closed PnL and Fear Greed Value: {correlation_pnl_fear:.2f}\")\n",
        "print(f\"Correlation between Total Closed PnL and Leverage Std: {correlation_pnl_leverage_std:.2f}\")\n",
        "print(f\"Correlation between Total Closed PnL and Position Size Std: {correlation_pnl_position_std:.2f}\")\n",
        "\n",
        "# 3. Summarize based on the visual analysis and correlation coefficients and discuss limitations.\n",
        "print(\"\\nSummary and Limitations regarding Conservative Traders in Fear:\")\n",
        "print(\"The PnL distribution plot for Fear days indicates that achieving positive PnL is possible during these periods. The distribution shows a peak frequency around a slightly positive value, suggesting that some traders were profitable on Fear days.\")\n",
        "print(f\"The correlation between Total Closed PnL and Fear Greed Value is {correlation_pnl_fear:.2f} (weak negative). This weak correlation does not provide strong evidence to suggest that lower Fear Greed values (more Fear) are consistently associated with higher total PnL. It's a very weak relationship.\")\n",
        "print(f\"The correlations between Total Closed PnL and the risk metrics (Leverage Std: {correlation_pnl_leverage_std:.2f}, Position Size Std: {correlation_pnl_position_std:.2f}) are also weak. This suggests that, at an aggregated daily level, there is no strong linear relationship between the variability of leverage or position sizes and total PnL, even during Fear periods.\")\n",
        "print(\"\\nLimitations:\")\n",
        "print(\"1.  Lack of Direct 'Conservatism' Metric: The most significant limitation is the absence of a direct measure or classification of 'conservative' traders in the dataset. We are implicitly assuming that 'conservative' trading might be related to lower leverage or less variable position sizes, but this is an assumption.\")\n",
        "print(\"2.  Aggregated Daily Data: The analysis is based on daily aggregated metrics. This level of aggregation might mask the performance of individual traders or specific trading strategies. A conservative trader might be profitable in Fear, but their individual PnL could be averaged out by the performance of other, less conservative traders on the same day.\")\n",
        "print(\"3.  Correlation vs Causation: The correlation heatmap shows associations, not causation. Even if a correlation were stronger, it wouldn't definitively prove that being conservative *causes* profitability in Fear.\")\n",
        "print(\"4.  Definition of 'Winning': 'Winning' could be defined in various ways (e.g., consistent small gains, avoiding large losses). The current analysis focuses on total daily PnL, which might not fully capture the nuances of a conservative trading approach.\")\n",
        "print(\"\\nConclusion on Conservative Traders in Fear:\")\n",
        "print(\"Based on the available data and analysis, we can say that positive PnL is achievable during Fear periods. However, there is no strong evidence from the aggregated daily data and correlations to definitively conclude that 'conservative' traders (as indirectly inferred from risk metrics) specifically or consistently 'win' in Fear markets. A more granular analysis focusing on individual trader behavior and PnL alongside defined metrics of conservatism would be necessary to draw more robust conclusions.\")"
      ],
      "execution_count": 31,
      "outputs": [
        {
          "output_type": "stream",
          "name": "stdout",
          "text": [
            "\n",
            "Analyzing PnL Distribution Plots and Correlation Heatmap for Conservative Traders in Fear Periods:\n",
            "\n",
            "Observation from PnL Distribution Plot for Fear Days:\n",
            "The distribution of Total Closed PnL on Fear days shows a peak frequency around a slightly positive PnL, with some instances of larger positive PnL. This suggests that it is possible to achieve positive PnL during Fear periods.\n",
            "\n",
            "Correlation Coefficients from Heatmap:\n",
            "Correlation between Total Closed PnL and Fear Greed Value: -0.07\n",
            "Correlation between Total Closed PnL and Leverage Std: -0.09\n",
            "Correlation between Total Closed PnL and Position Size Std: 0.20\n",
            "\n",
            "Summary and Limitations regarding Conservative Traders in Fear:\n",
            "The PnL distribution plot for Fear days indicates that achieving positive PnL is possible during these periods. The distribution shows a peak frequency around a slightly positive value, suggesting that some traders were profitable on Fear days.\n",
            "The correlation between Total Closed PnL and Fear Greed Value is -0.07 (weak negative). This weak correlation does not provide strong evidence to suggest that lower Fear Greed values (more Fear) are consistently associated with higher total PnL. It's a very weak relationship.\n",
            "The correlations between Total Closed PnL and the risk metrics (Leverage Std: -0.09, Position Size Std: 0.20) are also weak. This suggests that, at an aggregated daily level, there is no strong linear relationship between the variability of leverage or position sizes and total PnL, even during Fear periods.\n",
            "\n",
            "Limitations:\n",
            "1.  **Lack of Direct 'Conservatism' Metric:** The most significant limitation is the absence of a direct measure or classification of 'conservative' traders in the dataset. We are implicitly assuming that 'conservative' trading might be related to lower leverage or less variable position sizes, but this is an assumption.\n",
            "2.  **Aggregated Daily Data:** The analysis is based on daily aggregated metrics. This level of aggregation might mask the performance of individual traders or specific trading strategies. A conservative trader might be profitable in Fear, but their individual PnL could be averaged out by the performance of other, less conservative traders on the same day.\n",
            "3.  **Correlation vs Causation:** The correlation heatmap shows associations, not causation. Even if a correlation were stronger, it wouldn't definitively prove that being conservative *causes* profitability in Fear.\n",
            "4.  **Definition of 'Winning':** 'Winning' could be defined in various ways (e.g., consistent small gains, avoiding large losses). The current analysis focuses on total daily PnL, which might not fully capture the nuances of a conservative trading approach.\n",
            "\n",
            "Conclusion on Conservative Traders in Fear:\n",
            "Based on the available data and analysis, we can say that positive PnL is achievable during Fear periods. However, there is no strong evidence from the aggregated daily data and correlations to definitively conclude that 'conservative' traders (as indirectly inferred from risk metrics) specifically or consistently 'win' in Fear markets. A more granular analysis focusing on individual trader behavior and PnL alongside defined metrics of conservatism would be necessary to draw more robust conclusions.\n"
          ]
        }
      ]
    },
    {
      "cell_type": "markdown",
      "metadata": {
        "id": "dd2381d1"
      },
      "source": [
        "## Draft introduction\n",
        "\n",
        "### Subtask:\n",
        "Write an introductory section for the report.\n"
      ]
    },
    {
      "cell_type": "code",
      "metadata": {
        "colab": {
          "base_uri": "https://localhost:8080/"
        },
        "id": "2c5951a7",
        "outputId": "ef96043a-24aa-4ec4-fba8-bb1ada7622ef"
      },
      "source": [
        "print(\" 2-3 Page PDF Report Draft\")\n",
        "print(\"\\n### Introduction\")\n",
        "print(\"This report presents an exploratory data analysis of historical trading data combined with the Fear and Greed Index. The objective is to understand the relationships between market sentiment, trading behavior (leverage and volume), and profitability (PnL). By analyzing daily aggregated metrics, we aim to gain insights into how different market conditions, as reflected by the Fear and Greed Index, correlate with trading outcomes and risk-taking. We utilized historical trading data and the Fear and Greed Index dataset, employing an exploratory data analysis approach focused on daily aggregated metrics to uncover potential patterns and relationships.\")"
      ],
      "execution_count": 45,
      "outputs": [
        {
          "output_type": "stream",
          "name": "stdout",
          "text": [
            " 2-3 Page PDF Report Draft\n",
            "\n",
            "### Introduction\n",
            "This report presents an exploratory data analysis of historical trading data combined with the Fear and Greed Index. The objective is to understand the relationships between market sentiment, trading behavior (leverage and volume), and profitability (PnL). By analyzing daily aggregated metrics, we aim to gain insights into how different market conditions, as reflected by the Fear and Greed Index, correlate with trading outcomes and risk-taking. We utilized historical trading data and the Fear and Greed Index dataset, employing an exploratory data analysis approach focused on daily aggregated metrics to uncover potential patterns and relationships.\n"
          ]
        }
      ]
    },
    {
      "cell_type": "markdown",
      "metadata": {
        "id": "0ed5f412"
      },
      "source": [
        "## Draft data preparation section\n",
        "\n",
        "### Subtask:\n",
        "Section detailing the data loading, inspection, cleaning, and merging process.\n"
      ]
    },
    {
      "cell_type": "code",
      "metadata": {
        "colab": {
          "base_uri": "https://localhost:8080/"
        },
        "id": "76382c05",
        "outputId": "ee308d99-34ef-4676-fb03-a15922cfba33"
      },
      "source": [
        "print(\"\\n### Data Preparation\")\n",
        "print(\"The analysis utilized two datasets: historical trading data and the Fear and Greed Index. The data preparation phase involved several key steps to ensure the data was in a suitable format for analysis.\")\n",
        "print(\"\\n1.  Data Loading and Initial Inspection: The historical trading data and the Fear and Greed Index data were loaded into pandas DataFrames. Initial inspection confirmed that both datasets were free of missing values and duplicate rows. The data types were also examined.\")\n",
        "print(\"\\n2.  Data Type Conversion: The timestamp columns ('Timestamp IST' in historical data and 'date' in Fear and Greed Index) were converted to datetime objects to facilitate time-based analysis and merging.\")\n",
        "print(\"\\n3.  Column Name Standardization: Column names in both DataFrames were standardized to lowercase with underscores for consistency and ease of access.\")\n",
        "print(\"\\n4.  Data Saving: The cleaned historical and Fear and Greed Index DataFrames were saved to CSV files ('historical_data_cleaned.csv' and 'fear_greed_index_cleaned.csv') in the '/csv_files/' directory.\")\n",
        "print(\"\\n5.  Data Merging: The two cleaned DataFrames were merged based on the date component of their respective timestamp columns, allowing for the combination of trading data with daily market sentiment.\")\n",
        "print(\"\\n6.  Daily Metrics Computation: Daily aggregated metrics were computed from the merged dataset. These included the average and total closed PnL, average leverage, total trading volume (calculated as the sum of size in USD), and the standard deviation of leverage and position sizes. These metrics provide a daily summary of trading activity and outcomes.\")\n",
        "print(\"\\n7.  Processed Data Saving: The resulting daily metrics DataFrame, containing the processed data for analysis, was saved to a CSV file named 'processed_data.csv' in the '/csv_files/' directory.\")"
      ],
      "execution_count": 33,
      "outputs": [
        {
          "output_type": "stream",
          "name": "stdout",
          "text": [
            "\n",
            "### Data Preparation\n",
            "The analysis utilized two datasets: historical trading data and the Fear and Greed Index. The data preparation phase involved several key steps to ensure the data was in a suitable format for analysis.\n",
            "\n",
            "1.  **Data Loading and Initial Inspection:** The historical trading data and the Fear and Greed Index data were loaded into pandas DataFrames. Initial inspection confirmed that both datasets were free of missing values and duplicate rows. The data types were also examined.\n",
            "\n",
            "2.  **Data Type Conversion:** The timestamp columns ('Timestamp IST' in historical data and 'date' in Fear and Greed Index) were converted to datetime objects to facilitate time-based analysis and merging.\n",
            "\n",
            "3.  **Column Name Standardization:** Column names in both DataFrames were standardized to lowercase with underscores for consistency and ease of access.\n",
            "\n",
            "4.  **Data Saving:** The cleaned historical and Fear and Greed Index DataFrames were saved to CSV files ('historical_data_cleaned.csv' and 'fear_greed_index_cleaned.csv') in the '/csv_files/' directory.\n",
            "\n",
            "5.  **Data Merging:** The two cleaned DataFrames were merged based on the date component of their respective timestamp columns, allowing for the combination of trading data with daily market sentiment.\n",
            "\n",
            "6.  **Daily Metrics Computation:** Daily aggregated metrics were computed from the merged dataset. These included the average and total closed PnL, average leverage, total trading volume (calculated as the sum of size in USD), and the standard deviation of leverage and position sizes. These metrics provide a daily summary of trading activity and outcomes.\n",
            "\n",
            "7.  **Processed Data Saving:** The resulting daily metrics DataFrame, containing the processed data for analysis, was saved to a CSV file named 'processed_data.csv' in the '/csv_files/' directory.\n"
          ]
        }
      ]
    },
    {
      "cell_type": "markdown",
      "metadata": {
        "id": "62296e74"
      },
      "source": [
        "## Draft features section\n",
        "\n",
        "### Subtask:\n",
        "Describe the features engineered for the analysis (daily metrics).\n"
      ]
    },
    {
      "cell_type": "markdown",
      "metadata": {
        "id": "9c204a5e"
      },
      "source": [
        "Reasoning:\n",
        "Print a markdown section titled \"Features\" and list the daily aggregated metrics with brief descriptions.\n",
        "\n"
      ]
    },
    {
      "cell_type": "code",
      "metadata": {
        "colab": {
          "base_uri": "https://localhost:8080/"
        },
        "id": "1c71e084",
        "outputId": "6e9e9dc1-45f7-4e94-ea78-27a7b222b35e"
      },
      "source": [
        "print(\"\\n### Features\")\n",
        "print(\"The following key features were derived and used for the exploratory data analysis:\")\n",
        "print(\"\\n*   Average Closed PnL: The mean profit or loss from closed trades on a given day.\")\n",
        "print(\"\\n*   Total Closed PnL: The sum of profit or loss from all closed trades on a given day.\")\n",
        "print(\"\\n*   Average Leverage: The mean starting position size, used as a proxy for leverage applied by traders on a given day.\")\n",
        "print(\"\\n*   Total Volume: The sum of trade sizes in USD on a given day, representing the total trading activity.\")\n",
        "print(\"\\n*   Leverage Standard Deviation: A measure of the variability or dispersion of leverage used by traders on a given day, indicating risk-taking consistency.\")\n",
        "print(\"\\n*   Position Size Standard Deviation: A measure of the variability or dispersion of position sizes on a given day, also indicating risk-taking consistency.\")\n",
        "print(\"\\n*   Fear Greed Value: The numerical value of the Fear and Greed Index for a given day, ranging from 0 (Extreme Fear) to 100 (Extreme Greed).\")\n",
        "print(\"\\n*   Fear Greed Classification: The categorical classification of the Fear and Greed Index for a given day (e.g., Extreme Fear, Fear, Neutral, Greed, Extreme Greed).\")"
      ],
      "execution_count": 34,
      "outputs": [
        {
          "output_type": "stream",
          "name": "stdout",
          "text": [
            "\n",
            "### Features\n",
            "The following key features were derived and used for the exploratory data analysis:\n",
            "\n",
            "*   **Average Closed PnL:** The mean profit or loss from closed trades on a given day.\n",
            "\n",
            "*   **Total Closed PnL:** The sum of profit or loss from all closed trades on a given day.\n",
            "\n",
            "*   **Average Leverage:** The mean starting position size, used as a proxy for leverage applied by traders on a given day.\n",
            "\n",
            "*   **Total Volume:** The sum of trade sizes in USD on a given day, representing the total trading activity.\n",
            "\n",
            "*   **Leverage Standard Deviation:** A measure of the variability or dispersion of leverage used by traders on a given day, indicating risk-taking consistency.\n",
            "\n",
            "*   **Position Size Standard Deviation:** A measure of the variability or dispersion of position sizes on a given day, also indicating risk-taking consistency.\n",
            "\n",
            "*   **Fear Greed Value:** The numerical value of the Fear and Greed Index for a given day, ranging from 0 (Extreme Fear) to 100 (Extreme Greed).\n",
            "\n",
            "*   **Fear Greed Classification:** The categorical classification of the Fear and Greed Index for a given day (e.g., Extreme Fear, Fear, Neutral, Greed, Extreme Greed).\n"
          ]
        }
      ]
    },
    {
      "cell_type": "markdown",
      "metadata": {
        "id": "e7041c1f"
      },
      "source": [
        "## Draft insights section\n",
        "\n",
        "### Subtask:\n",
        "Presenting the summarized insights from the EDA, addressing the user's specific questions about profitability, leverage, volume, and conservative traders.\n"
      ]
    },
    {
      "cell_type": "code",
      "metadata": {
        "colab": {
          "base_uri": "https://localhost:8080/"
        },
        "id": "7b1e0bf6",
        "outputId": "6baf157f-1e8a-4cdb-ad6e-9aba576c0ead"
      },
      "source": [
        "print(\"\\n Insights\")\n",
        "print(\"The exploratory data analysis revealed several insights regarding the relationship between market sentiment and trading characteristics:\")\n",
        "\n",
        "print(\"\\n*   Profitability in Fear vs Greed: As shown in the PnL distribution plots (Figure 1), both Fear and Greed days exhibit a concentration of PnL around zero or slightly negative. Greed days appear to have a wider spread of both positive and negative PnL, potentially indicating higher volatility in outcomes. It is not definitively clear that traders are consistently 'more profitable' in one sentiment over the other based solely on these distributions.\")\n",
        "\n",
        "print(\"\\n*   Leverage Usage in Greed: The trend plot of Average Leverage and Fear Greed Index (Figure 2) and the correlation heatmap (Figure 4) were examined to assess if traders use higher leverage during Greed periods. The visual trend analysis did not show a consistently clear positive relationship. The correlation coefficient between average leverage and Fear Greed Value was found to be weak and negative ({:.2f}), suggesting a slight tendency for lower average leverage as sentiment moves towards Greed. This does not support the hypothesis that traders consistently use higher leverage during Greed periods.\".format(correlation_value))\n",
        "\n",
        "print(\"\\n*   Trading Volume in Greed: The box plot comparing total volume on Fear vs Greed days (Figure 3) and the correlation heatmap (Figure 4) were used to assess trading volume. The box plot showed a lower median volume on Greed days, but with notable outliers suggesting potential for high volume days. The correlation coefficient between total volume and Fear Greed Value was weak and negative ({:.2f}). This suggests a weak tendency for lower total volume as sentiment moves towards Greed, which slightly contradicts the visual impression of high-volume outliers on Greed days but aligns with the lower median.\".format(correlation_value_volume))\n",
        "\n",
        "print(\"\\n*   Conservative Traders in Fear: The PnL distribution plot for Fear days (Figure 1) indicates that positive PnL is achievable during Fear periods. The correlation heatmap (Figure 4) showed a very weak negative correlation between Total Closed PnL and Fear Greed Value ({:.2f}), and weak correlations between Total Closed PnL and risk metrics (Leverage Std: {:.2f}, Position Size Std: {:.2f}). While positive outcomes are possible in Fear, there is no strong evidence from this analysis to conclude that 'conservative' traders (as indirectly inferred from risk metrics) specifically or consistently 'win' during these periods. The relationship between risk-taking levels and PnL in different sentiments would require a more granular analysis.\".format(correlation_pnl_fear, correlation_pnl_leverage_std, correlation_pnl_position_std))"
      ],
      "execution_count": 46,
      "outputs": [
        {
          "output_type": "stream",
          "name": "stdout",
          "text": [
            "\n",
            " Insights\n",
            "The exploratory data analysis revealed several insights regarding the relationship between market sentiment and trading characteristics:\n",
            "\n",
            "*   **Profitability in Fear vs Greed:** As shown in the PnL distribution plots (Figure 1), both Fear and Greed days exhibit a concentration of PnL around zero or slightly negative. Greed days appear to have a wider spread of both positive and negative PnL, potentially indicating higher volatility in outcomes. It is not definitively clear that traders are consistently 'more profitable' in one sentiment over the other based solely on these distributions.\n",
            "\n",
            "*   **Leverage Usage in Greed:** The trend plot of Average Leverage and Fear Greed Index (Figure 2) and the correlation heatmap (Figure 4) were examined to assess if traders use higher leverage during Greed periods. The visual trend analysis did not show a consistently clear positive relationship. The correlation coefficient between average leverage and Fear Greed Value was found to be weak and negative (-0.11), suggesting a slight tendency for lower average leverage as sentiment moves towards Greed. This does not support the hypothesis that traders consistently use higher leverage during Greed periods.\n",
            "\n",
            "*   **Trading Volume in Greed:** The box plot comparing total volume on Fear vs Greed days (Figure 3) and the correlation heatmap (Figure 4) were used to assess trading volume. The box plot showed a lower median volume on Greed days, but with notable outliers suggesting potential for high volume days. The correlation coefficient between total volume and Fear Greed Value was weak and negative (-0.20). This suggests a weak tendency for lower total volume as sentiment moves towards Greed, which slightly contradicts the visual impression of high-volume outliers on Greed days but aligns with the lower median.\n",
            "\n",
            "*   **Conservative Traders in Fear:** The PnL distribution plot for Fear days (Figure 1) indicates that positive PnL is achievable during Fear periods. The correlation heatmap (Figure 4) showed a very weak negative correlation between Total Closed PnL and Fear Greed Value (-0.07), and weak correlations between Total Closed PnL and risk metrics (Leverage Std: -0.09, Position Size Std: 0.20). While positive outcomes are possible in Fear, there is no strong evidence from this analysis to conclude that 'conservative' traders (as indirectly inferred from risk metrics) specifically or consistently 'win' during these periods. The relationship between risk-taking levels and PnL in different sentiments would require a more granular analysis.\n"
          ]
        }
      ]
    },
    {
      "cell_type": "markdown",
      "metadata": {
        "id": "e224403d"
      },
      "source": [
        "## Draft implications section\n",
        "\n",
        "### Subtask:\n",
        "Discussing the potential implications of the findings for trading strategies.\n"
      ]
    },
    {
      "cell_type": "code",
      "metadata": {
        "colab": {
          "base_uri": "https://localhost:8080/"
        },
        "id": "df8e9770",
        "outputId": "1df35a99-9a08-4c11-d074-45cb924099d5"
      },
      "source": [
        "print(\"\\n### Implications\")\n",
        "print(\"The findings from this exploratory analysis have several potential implications for traders and investors:\")\n",
        "\n",
        "print(\"\\n*   Sentiment and Profitability: The similar, albeit wider-spread, PnL distributions in Fear and Greed suggest that extreme sentiment alone may not be a definitive indicator of profitability. Success likely depends more on individual trading strategies, risk management, and execution rather than simply trading during a specific sentiment period.\")\n",
        "\n",
        "print(\"\\n*   Leverage and Sentiment: The weak negative correlation between average leverage and the Fear Greed Index is counterintuitive if one assumes traders become overly aggressive (higher leverage) in Greed. This finding warrants further investigation to understand the factors influencing leverage decisions during different market sentiments. It might suggest that sophisticated traders reduce leverage in highly greedy markets, or that the aggregate data masks diverse individual behaviors.\")\n",
        "\n",
        "print(\"\\n*   Volume and Sentiment: The weak negative correlation between total volume and the Fear Greed Index, alongside the observation of high-volume outliers in Greed, indicates a complex relationship. While typical volume might not increase with Greed, periods of extreme Greed could coincide with significant trading activity, possibly driven by large players or specific market events. Traders should be aware of the potential for increased volatility and larger market movements during such times.\")\n",
        "\n",
        "print(\"\\n*   Risk Management: The weak correlations between PnL and risk metrics (leverage and position size standard deviations) across sentiment suggest that simply reducing or increasing risk-taking across the board based on sentiment might not directly lead to improved profitability. A more nuanced approach to risk management tailored to specific strategies and market conditions, regardless of the prevailing sentiment, is likely more effective.\")\n",
        "\n",
        "print(\"\\n*   Further Research: This analysis is exploratory. Deeper dives into specific trading strategies, coin-specific analysis, and the impact of other market factors are needed to draw more definitive conclusions and develop actionable trading insights.\")"
      ],
      "execution_count": 36,
      "outputs": [
        {
          "output_type": "stream",
          "name": "stdout",
          "text": [
            "\n",
            "### Implications\n",
            "The findings from this exploratory analysis have several potential implications for traders and investors:\n",
            "\n",
            "*   **Sentiment and Profitability:** The similar, albeit wider-spread, PnL distributions in Fear and Greed suggest that extreme sentiment alone may not be a definitive indicator of profitability. Success likely depends more on individual trading strategies, risk management, and execution rather than simply trading during a specific sentiment period.\n",
            "\n",
            "*   **Leverage and Sentiment:** The weak negative correlation between average leverage and the Fear Greed Index is counterintuitive if one assumes traders become overly aggressive (higher leverage) in Greed. This finding warrants further investigation to understand the factors influencing leverage decisions during different market sentiments. It might suggest that sophisticated traders reduce leverage in highly greedy markets, or that the aggregate data masks diverse individual behaviors.\n",
            "\n",
            "*   **Volume and Sentiment:** The weak negative correlation between total volume and the Fear Greed Index, alongside the observation of high-volume outliers in Greed, indicates a complex relationship. While typical volume might not increase with Greed, periods of extreme Greed could coincide with significant trading activity, possibly driven by large players or specific market events. Traders should be aware of the potential for increased volatility and larger market movements during such times.\n",
            "\n",
            "*   **Risk Management:** The weak correlations between PnL and risk metrics (leverage and position size standard deviations) across sentiment suggest that simply reducing or increasing risk-taking across the board based on sentiment might not directly lead to improved profitability. A more nuanced approach to risk management tailored to specific strategies and market conditions, regardless of the prevailing sentiment, is likely more effective.\n",
            "\n",
            "*   **Further Research:** This analysis is exploratory. Deeper dives into specific trading strategies, coin-specific analysis, and the impact of other market factors are needed to draw more definitive conclusions and develop actionable trading insights.\n"
          ]
        }
      ]
    },
    {
      "cell_type": "code",
      "metadata": {
        "colab": {
          "base_uri": "https://localhost:8080/"
        },
        "id": "a2566259",
        "outputId": "6d1b54cd-27c3-45ab-cf9c-2724354f4848"
      },
      "source": [
        "print(\"\\n Conclusion\")\n",
        "print(\"This exploratory data analysis has provided initial insights into the relationship between market sentiment, as captured by the Fear and Greed Index, and key trading metrics such as PnL, leverage, and volume. The findings suggest that the relationship between sentiment and trading outcomes is not straightforward. While Greed days may exhibit higher volatility in PnL and potential for extreme volume, there is no strong evidence to support simple hypotheses like traders being consistently more profitable or using higher leverage during Greed periods.\")\n",
        "print(\"The weak correlations observed between sentiment and trading metrics highlight the complexity of market behavior and the numerous factors that influence trading decisions and profitability beyond just the prevailing sentiment. Effective trading strategies likely involve a more nuanced approach to risk management, leverage, and volume based on specific market conditions and individual analysis rather than solely relying on a single sentiment indicator.\")\n",
        "print(\"Future research could delve deeper into these relationships by analyzing data at a finer granularity, examining specific trading strategies, incorporating other market indicators, and employing more advanced statistical modeling techniques to uncover causal relationships and develop more robust, data-driven trading insights.\")"
      ],
      "execution_count": 47,
      "outputs": [
        {
          "output_type": "stream",
          "name": "stdout",
          "text": [
            "\n",
            " Conclusion\n",
            "This exploratory data analysis has provided initial insights into the relationship between market sentiment, as captured by the Fear and Greed Index, and key trading metrics such as PnL, leverage, and volume. The findings suggest that the relationship between sentiment and trading outcomes is not straightforward. While Greed days may exhibit higher volatility in PnL and potential for extreme volume, there is no strong evidence to support simple hypotheses like traders being consistently more profitable or using higher leverage during Greed periods.\n",
            "The weak correlations observed between sentiment and trading metrics highlight the complexity of market behavior and the numerous factors that influence trading decisions and profitability beyond just the prevailing sentiment. Effective trading strategies likely involve a more nuanced approach to risk management, leverage, and volume based on specific market conditions and individual analysis rather than solely relying on a single sentiment indicator.\n",
            "Future research could delve deeper into these relationships by analyzing data at a finer granularity, examining specific trading strategies, incorporating other market indicators, and employing more advanced statistical modeling techniques to uncover causal relationships and develop more robust, data-driven trading insights.\n"
          ]
        }
      ]
    },
    {
      "cell_type": "markdown",
      "metadata": {
        "id": "71778e25"
      },
      "source": [
        "## Summary:\n",
        "\n",
        "### Data Analysis Key Findings\n",
        "\n",
        "*   Profitability in Fear vs Greed: Both Fear and Greed days show PnL concentrated around zero or slightly negative. Greed days exhibit a wider spread of PnL, potentially indicating higher volatility, but it's not definitively clear from the distributions if traders are consistently more profitable in one sentiment over the other.\n",
        "*   Leverage Usage in Greed: The correlation coefficient between average leverage and the Fear Greed Value is -0.11 (weak negative), suggesting a slight tendency for lower average leverage as sentiment moves towards Greed. There is no strong evidence that traders consistently use significantly higher leverage during Greed periods.\n",
        "*   Trading Volume in Greed: The median total volume on Greed days appears lower than on Fear days, but Greed days show a wider spread and significant high-volume outliers. The correlation coefficient between total volume and Fear Greed Value is -0.20 (weak negative), indicating a weak tendency for lower total volume as sentiment moves towards Greed.\n",
        "*   Conservative Traders in Fear: Positive PnL is achievable during Fear periods, with a peak frequency around a slightly positive PnL. However, there is no strong evidence from the aggregated daily data and weak correlations (Total Closed PnL vs Fear Greed Value: -0.07; Total Closed PnL vs Leverage Std: -0.09; Total Closed PnL vs Position Size Std: 0.20) to conclude that \"conservative\" traders specifically or consistently \"win\" in Fear markets.\n",
        "\n",
        "### Insights or Next Steps\n",
        "\n",
        "*   The weak correlations between market sentiment and trading metrics suggest that effective trading strategies likely require a more nuanced approach to risk management, leverage, and volume based on specific market conditions and individual analysis, rather than solely relying on a single sentiment indicator like the Fear Greed Index.\n",
        "*   Further research should explore the relationship between market sentiment and trading outcomes at a finer granularity (e.g., hourly or per-trade data), investigate specific trading strategies, incorporate other relevant market indicators, and use more advanced modeling techniques to uncover potential causal relationships. Analyzing metrics of \"conservatism\" at the individual trader level would also provide more definitive insights.\n"
      ]
    },
    {
      "cell_type": "code",
      "metadata": {
        "colab": {
          "base_uri": "https://localhost:8080/",
          "height": 17
        },
        "id": "e50e45d6",
        "outputId": "1a1b7e82-d6f4-4da7-cb32-51a5aca4f04d"
      },
      "source": [
        "from google.colab import files\n",
        "\n",
        "files.download('/csv_files/historical_data_cleaned.csv')\n",
        "files.download('/csv_files/fear_greed_index_cleaned.csv')"
      ],
      "execution_count": 48,
      "outputs": [
        {
          "output_type": "display_data",
          "data": {
            "text/plain": [
              "<IPython.core.display.Javascript object>"
            ],
            "application/javascript": [
              "\n",
              "    async function download(id, filename, size) {\n",
              "      if (!google.colab.kernel.accessAllowed) {\n",
              "        return;\n",
              "      }\n",
              "      const div = document.createElement('div');\n",
              "      const label = document.createElement('label');\n",
              "      label.textContent = `Downloading \"${filename}\": `;\n",
              "      div.appendChild(label);\n",
              "      const progress = document.createElement('progress');\n",
              "      progress.max = size;\n",
              "      div.appendChild(progress);\n",
              "      document.body.appendChild(div);\n",
              "\n",
              "      const buffers = [];\n",
              "      let downloaded = 0;\n",
              "\n",
              "      const channel = await google.colab.kernel.comms.open(id);\n",
              "      // Send a message to notify the kernel that we're ready.\n",
              "      channel.send({})\n",
              "\n",
              "      for await (const message of channel.messages) {\n",
              "        // Send a message to notify the kernel that we're ready.\n",
              "        channel.send({})\n",
              "        if (message.buffers) {\n",
              "          for (const buffer of message.buffers) {\n",
              "            buffers.push(buffer);\n",
              "            downloaded += buffer.byteLength;\n",
              "            progress.value = downloaded;\n",
              "          }\n",
              "        }\n",
              "      }\n",
              "      const blob = new Blob(buffers, {type: 'application/binary'});\n",
              "      const a = document.createElement('a');\n",
              "      a.href = window.URL.createObjectURL(blob);\n",
              "      a.download = filename;\n",
              "      div.appendChild(a);\n",
              "      a.click();\n",
              "      div.remove();\n",
              "    }\n",
              "  "
            ]
          },
          "metadata": {}
        },
        {
          "output_type": "display_data",
          "data": {
            "text/plain": [
              "<IPython.core.display.Javascript object>"
            ],
            "application/javascript": [
              "download(\"download_a49e008e-6b72-4a4a-b593-fd9d518514b1\", \"historical_data_cleaned.csv\", 51801821)"
            ]
          },
          "metadata": {}
        },
        {
          "output_type": "display_data",
          "data": {
            "text/plain": [
              "<IPython.core.display.Javascript object>"
            ],
            "application/javascript": [
              "\n",
              "    async function download(id, filename, size) {\n",
              "      if (!google.colab.kernel.accessAllowed) {\n",
              "        return;\n",
              "      }\n",
              "      const div = document.createElement('div');\n",
              "      const label = document.createElement('label');\n",
              "      label.textContent = `Downloading \"${filename}\": `;\n",
              "      div.appendChild(label);\n",
              "      const progress = document.createElement('progress');\n",
              "      progress.max = size;\n",
              "      div.appendChild(progress);\n",
              "      document.body.appendChild(div);\n",
              "\n",
              "      const buffers = [];\n",
              "      let downloaded = 0;\n",
              "\n",
              "      const channel = await google.colab.kernel.comms.open(id);\n",
              "      // Send a message to notify the kernel that we're ready.\n",
              "      channel.send({})\n",
              "\n",
              "      for await (const message of channel.messages) {\n",
              "        // Send a message to notify the kernel that we're ready.\n",
              "        channel.send({})\n",
              "        if (message.buffers) {\n",
              "          for (const buffer of message.buffers) {\n",
              "            buffers.push(buffer);\n",
              "            downloaded += buffer.byteLength;\n",
              "            progress.value = downloaded;\n",
              "          }\n",
              "        }\n",
              "      }\n",
              "      const blob = new Blob(buffers, {type: 'application/binary'});\n",
              "      const a = document.createElement('a');\n",
              "      a.href = window.URL.createObjectURL(blob);\n",
              "      a.download = filename;\n",
              "      div.appendChild(a);\n",
              "      a.click();\n",
              "      div.remove();\n",
              "    }\n",
              "  "
            ]
          },
          "metadata": {}
        },
        {
          "output_type": "display_data",
          "data": {
            "text/plain": [
              "<IPython.core.display.Javascript object>"
            ],
            "application/javascript": [
              "download(\"download_156206bf-180e-477a-b1e4-729d3b528ebf\", \"fear_greed_index_cleaned.csv\", 88156)"
            ]
          },
          "metadata": {}
        }
      ]
    }
  ]
}